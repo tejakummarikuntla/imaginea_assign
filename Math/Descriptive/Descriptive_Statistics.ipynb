{
 "cells": [
  {
   "cell_type": "markdown",
   "metadata": {},
   "source": [
    "## Mean"
   ]
  },
  {
   "cell_type": "markdown",
   "metadata": {},
   "source": [
    "The words “mean” and “average” are sometimes used interchangeably, but\n",
    "I will maintain this distinction:\n",
    "- The “mean” of a sample is the summary statistic computed with the formula: $$ \\mu = \\frac{1}{n} \\sum_{i=0}^{n} x_i$$\n",
    "- An “average” is one of many summary statistics you might choose to\n",
    "  describe the typical value or the central tendency of a sample.\n",
    "\n",
    "Suppose I grow several varieties in my\n",
    "garden, and one day I harvest three decorative pumpkins that are 1 pound each, two pie pumpkins that are 3 pounds each, and one Atlantic Giant® pumpkin that weighs 591 pounds. The mean of this sample is 100\n",
    "pounds, but if I told you “The average pumpkin in my garden is 100\n",
    "pounds,” that would be wrong, or at least misleading.\n",
    "In this example, there is no meaningful average because there is no typical\n",
    "pumpkin.\n"
   ]
  },
  {
   "cell_type": "code",
   "execution_count": 152,
   "metadata": {},
   "outputs": [],
   "source": [
    "import pandas as pd\n",
    "import numpy as np\n",
    "import matplotlib.pyplot as plt\n",
    "import seaborn as sns\n",
    "\n",
    "%matplotlib inline"
   ]
  },
  {
   "cell_type": "code",
   "execution_count": 102,
   "metadata": {},
   "outputs": [],
   "source": [
    "df = pd.read_csv('Des_stats.csv')"
   ]
  },
  {
   "cell_type": "code",
   "execution_count": 103,
   "metadata": {},
   "outputs": [
    {
     "data": {
      "text/html": [
       "<div>\n",
       "<style scoped>\n",
       "    .dataframe tbody tr th:only-of-type {\n",
       "        vertical-align: middle;\n",
       "    }\n",
       "\n",
       "    .dataframe tbody tr th {\n",
       "        vertical-align: top;\n",
       "    }\n",
       "\n",
       "    .dataframe thead th {\n",
       "        text-align: right;\n",
       "    }\n",
       "</style>\n",
       "<table border=\"1\" class=\"dataframe\">\n",
       "  <thead>\n",
       "    <tr style=\"text-align: right;\">\n",
       "      <th></th>\n",
       "      <th>Student #</th>\n",
       "      <th>Quiz Score</th>\n",
       "      <th>Unnamed: 2</th>\n",
       "    </tr>\n",
       "  </thead>\n",
       "  <tbody>\n",
       "    <tr>\n",
       "      <th>0</th>\n",
       "      <td>1</td>\n",
       "      <td>85</td>\n",
       "      <td>NaN</td>\n",
       "    </tr>\n",
       "    <tr>\n",
       "      <th>1</th>\n",
       "      <td>2</td>\n",
       "      <td>66</td>\n",
       "      <td>NaN</td>\n",
       "    </tr>\n",
       "    <tr>\n",
       "      <th>2</th>\n",
       "      <td>3</td>\n",
       "      <td>90</td>\n",
       "      <td>NaN</td>\n",
       "    </tr>\n",
       "    <tr>\n",
       "      <th>3</th>\n",
       "      <td>4</td>\n",
       "      <td>82</td>\n",
       "      <td>NaN</td>\n",
       "    </tr>\n",
       "    <tr>\n",
       "      <th>4</th>\n",
       "      <td>5</td>\n",
       "      <td>74</td>\n",
       "      <td>NaN</td>\n",
       "    </tr>\n",
       "  </tbody>\n",
       "</table>\n",
       "</div>"
      ],
      "text/plain": [
       "   Student #  \\tQuiz Score  Unnamed: 2\n",
       "0          1            85         NaN\n",
       "1          2            66         NaN\n",
       "2          3            90         NaN\n",
       "3          4            82         NaN\n",
       "4          5            74         NaN"
      ]
     },
     "execution_count": 103,
     "metadata": {},
     "output_type": "execute_result"
    }
   ],
   "source": [
    "df.head()"
   ]
  },
  {
   "cell_type": "code",
   "execution_count": 104,
   "metadata": {},
   "outputs": [],
   "source": [
    "df = df.loc[:, ~df.columns.str.contains('^Unnamed')]"
   ]
  },
  {
   "cell_type": "code",
   "execution_count": 130,
   "metadata": {},
   "outputs": [
    {
     "data": {
      "text/html": [
       "<div>\n",
       "<style scoped>\n",
       "    .dataframe tbody tr th:only-of-type {\n",
       "        vertical-align: middle;\n",
       "    }\n",
       "\n",
       "    .dataframe tbody tr th {\n",
       "        vertical-align: top;\n",
       "    }\n",
       "\n",
       "    .dataframe thead th {\n",
       "        text-align: right;\n",
       "    }\n",
       "</style>\n",
       "<table border=\"1\" class=\"dataframe\">\n",
       "  <thead>\n",
       "    <tr style=\"text-align: right;\">\n",
       "      <th></th>\n",
       "      <th>Student #</th>\n",
       "      <th>Quiz Score</th>\n",
       "    </tr>\n",
       "  </thead>\n",
       "  <tbody>\n",
       "    <tr>\n",
       "      <th>0</th>\n",
       "      <td>1</td>\n",
       "      <td>85</td>\n",
       "    </tr>\n",
       "    <tr>\n",
       "      <th>1</th>\n",
       "      <td>2</td>\n",
       "      <td>66</td>\n",
       "    </tr>\n",
       "    <tr>\n",
       "      <th>2</th>\n",
       "      <td>3</td>\n",
       "      <td>90</td>\n",
       "    </tr>\n",
       "    <tr>\n",
       "      <th>3</th>\n",
       "      <td>4</td>\n",
       "      <td>82</td>\n",
       "    </tr>\n",
       "    <tr>\n",
       "      <th>4</th>\n",
       "      <td>5</td>\n",
       "      <td>74</td>\n",
       "    </tr>\n",
       "  </tbody>\n",
       "</table>\n",
       "</div>"
      ],
      "text/plain": [
       "   Student #  \\tQuiz Score\n",
       "0          1            85\n",
       "1          2            66\n",
       "2          3            90\n",
       "3          4            82\n",
       "4          5            74"
      ]
     },
     "execution_count": 130,
     "metadata": {},
     "output_type": "execute_result"
    }
   ],
   "source": [
    "df.head()"
   ]
  },
  {
   "cell_type": "code",
   "execution_count": 128,
   "metadata": {
    "scrolled": true
   },
   "outputs": [
    {
     "data": {
      "text/plain": [
       "<BarContainer object of 20 artists>"
      ]
     },
     "execution_count": 128,
     "metadata": {},
     "output_type": "execute_result"
    },
    {
     "data": {
      "image/png": "[encoded data removed]",
      "text/plain": [
       "<Figure size 432x288 with 1 Axes>"
      ]
     },
     "metadata": {
      "needs_background": "light"
     },
     "output_type": "display_data"
    }
   ],
   "source": [
    "plt.bar(df['Student #'], df['\\tQuiz Score'])"
   ]
  },
  {
   "cell_type": "code",
   "execution_count": 129,
   "metadata": {},
   "outputs": [
    {
     "data": {
      "text/plain": [
       "(array([1., 0., 1., 1., 2., 5., 2., 4., 1., 3.]),\n",
       " array([43. , 48.4, 53.8, 59.2, 64.6, 70. , 75.4, 80.8, 86.2, 91.6, 97. ]),\n",
       " <a list of 10 Patch objects>)"
      ]
     },
     "execution_count": 129,
     "metadata": {},
     "output_type": "execute_result"
    },
    {
     "data": {
      "image/png": "[encoded data removed]",
      "text/plain": [
       "<Figure size 432x288 with 1 Axes>"
      ]
     },
     "metadata": {
      "needs_background": "light"
     },
     "output_type": "display_data"
    }
   ],
   "source": [
    "plt.hist(df['\\tQuiz Score'])"
   ]
  },
  {
   "cell_type": "code",
   "execution_count": 120,
   "metadata": {},
   "outputs": [
    {
     "data": {
      "text/plain": [
       "<matplotlib.axes._subplots.AxesSubplot at 0x13238f198>"
      ]
     },
     "execution_count": 120,
     "metadata": {},
     "output_type": "execute_result"
    },
    {
     "data": {
      "image/png": "[encoded data removed]",
      "text/plain": [
       "<Figure size 432x288 with 1 Axes>"
      ]
     },
     "metadata": {
      "needs_background": "light"
     },
     "output_type": "display_data"
    }
   ],
   "source": [
    "df['\\tQuiz Score'].plot(kind='kde')"
   ]
  },
  {
   "cell_type": "code",
   "execution_count": 121,
   "metadata": {},
   "outputs": [
    {
     "data": {
      "text/plain": [
       "76.25"
      ]
     },
     "execution_count": 121,
     "metadata": {},
     "output_type": "execute_result"
    }
   ],
   "source": [
    "np.mean(df['\\tQuiz Score'])"
   ]
  },
  {
   "cell_type": "code",
   "execution_count": 122,
   "metadata": {},
   "outputs": [
    {
     "data": {
      "text/plain": [
       "12.86808066496321"
      ]
     },
     "execution_count": 122,
     "metadata": {},
     "output_type": "execute_result"
    }
   ],
   "source": [
    "np.std(df['\\tQuiz Score'])"
   ]
  },
  {
   "cell_type": "code",
   "execution_count": 123,
   "metadata": {},
   "outputs": [
    {
     "data": {
      "text/plain": [
       "165.5875"
      ]
     },
     "execution_count": 123,
     "metadata": {},
     "output_type": "execute_result"
    }
   ],
   "source": [
    "np.var(df['\\tQuiz Score'])"
   ]
  },
  {
   "cell_type": "code",
   "execution_count": 126,
   "metadata": {},
   "outputs": [
    {
     "data": {
      "text/plain": [
       "Index(['Student #', '\\tQuiz Score'], dtype='object')"
      ]
     },
     "execution_count": 126,
     "metadata": {},
     "output_type": "execute_result"
    }
   ],
   "source": [
    "df.columns"
   ]
  },
  {
   "cell_type": "markdown",
   "metadata": {},
   "source": [
    "## Measures of Variability\n",
    "- Variance\n",
    "- Standard Deviation\n",
    "- Coefficient of Variation"
   ]
  },
  {
   "cell_type": "markdown",
   "metadata": {},
   "source": [
    "### Variance ($\\sigma^2$)\n",
    "In the same way that the mean is intended to describe the central tendency,\n",
    "variance is intended to describe the **spread**. The variance of a set of values\n",
    "is\n",
    "Sample Variance = $$σ^2 = \\frac{1}{n-1}\\sum_{0}^{n}(xi − \\bar{x})^2$$\n",
    "Population Variance = $$σ^2 = \\frac{1}{N}\\sum_{0}^{N}(xi − µ)^2$$\n",
    "- Variance measures the dispersion of a set fo data points around their mean.\n",
    "\n",
    "The term **(xi-µ)** is called the “deviation from the mean,” so variance is the\n",
    "mean squared deviation, which is why it is denoted σ^2\n",
    "- The square root of variance, σ, is called the **standard deviation**."
   ]
  },
  {
   "cell_type": "code",
   "execution_count": 168,
   "metadata": {},
   "outputs": [
    {
     "data": {
      "text/plain": [
       "165.5875"
      ]
     },
     "execution_count": 168,
     "metadata": {},
     "output_type": "execute_result"
    }
   ],
   "source": [
    "np.var(df['\\tQuiz Score'])"
   ]
  },
  {
   "cell_type": "markdown",
   "metadata": {},
   "source": [
    "### Standard Deviation ($\\sigma$)\n",
    "   - why Sample Std $\\sqrt{\\frac{1}{(n-1)}\\sum_{0}^{n}(x_i - \\bar{x})^2}$\n",
    "   - why Population Std $\\sqrt{\\frac{1}{(N)}\\sum_{0}^{n}(x_i - \\mu)^2}$\n",
    "\n",
    "Why so many Deviations:\n",
    "- Mean Deviation\n",
    "- Median Absolute Deviation"
   ]
  },
  {
   "cell_type": "code",
   "execution_count": 190,
   "metadata": {},
   "outputs": [
    {
     "data": {
      "text/plain": [
       "12.86808066496321"
      ]
     },
     "execution_count": 190,
     "metadata": {},
     "output_type": "execute_result"
    }
   ],
   "source": [
    "np.std(df['\\tQuiz Score'])"
   ]
  },
  {
   "cell_type": "markdown",
   "metadata": {},
   "source": [
    "### Coefficient of Variation ($C_v$)\n",
    "or **Relative Standard Deviation**\n",
    "- Standard Deviation is the most common measure of variability of single data set, comparing the standard deviations of two data sets is meaning less but comparing the coefficients of variation is not..\n",
    "$$C_v =  \\frac{Standard Deviation}{Mean} \\times{100}$$\n",
    "- Often expressed in Percentages\n",
    "- E.g: Standard Deviation is 17% of Mean, the 17% is Coeffiecient of Variation\n"
   ]
  },
  {
   "cell_type": "code",
   "execution_count": 192,
   "metadata": {},
   "outputs": [
    {
     "name": "stdout",
     "output_type": "stream",
     "text": [
      "Mean:  5.5 $\n",
      "Variance:  10.722222222222221 $ ^2\n",
      "Standard Deviation:  3.2744804507314167 $\n",
      "\n",
      "\n",
      "Mean:  103.455 MXN\n",
      "Variance:  3793.69485 MXN ^2\n",
      "Standard Deviation:  61.59297727825795 MXN\n",
      "\n",
      "\n"
     ]
    }
   ],
   "source": [
    "# Cost of pizzas in different currency at particualr \n",
    "# NY $ to Mexican Pesos.\n",
    "# 1$ = 18.81 Pesos. [Exchange Rate]\n",
    "usd_price = pd.Series([1.00,  2.00,  3.00,  3.00,  5.00,  6.00,  7.00,  8.00,  9.00, 11.00])\n",
    "mxn_price = pd.Series([18.81 ,37.62 ,56.43 ,56.43 ,94.05 ,112.86, 131.67, 150.48, 169.29, 206.91])\n",
    "\n",
    "piza_lst = [usd_price, mxn_price]\n",
    "curr = [\"$\", \"MXN\"]\n",
    "c_val = 0\n",
    "for pl in piza_lst:\n",
    "    print(\"Mean: \",pl.mean(),curr[c_val])\n",
    "    print(\"Variance: \", pl.var(),curr[c_val],'^2')\n",
    "    print(\"Standard Deviation: \", pl.std(),curr[c_val])\n",
    "    print(\"\\n\")\n",
    "    c_val += 1\n"
   ]
  },
  {
   "cell_type": "code",
   "execution_count": 193,
   "metadata": {},
   "outputs": [
    {
     "name": "stdout",
     "output_type": "stream",
     "text": [
      "Coefficient of Variation:  0.564808166073057\n",
      "Coefficient of Variation:  0.564808166073057\n"
     ]
    }
   ],
   "source": [
    "# The Same pizza same Restarunts with diff currency value is having differnt Standard Deviations\n",
    "# Now time to use Coefficient of Variation.\n",
    "# C_v = Std/Mean\n",
    "for pl in piza_lst:\n",
    "    print(\"Coefficient of Variation: \", np.std(pl)/np.mean(pl))\n",
    "    \n",
    "# This does not have any Units."
   ]
  },
  {
   "cell_type": "markdown",
   "metadata": {},
   "source": [
    "Now We can Confidently say that two data sets have same variability\n",
    "it's perfect to make comprassions.\n"
   ]
  },
  {
   "cell_type": "markdown",
   "metadata": {},
   "source": [
    "## Measuring Skweness\n",
    "Skweness indicates whether the data is concentrated on one side\n",
    "it's about where the tail part extends towards\n",
    "- positive skew = Right skew\n",
    "- Negative skew = left skew\n",
    "- zero skew = No skew\n",
    "\n",
    "\n",
    "Formula to calculate skewness: $$\\frac{\n",
    "        \\frac{1}{n}\n",
    "        \\sum _{i=0}^{n}(x_i - X)^3}\n",
    "        {\n",
    "        \\sqrt{\n",
    "        \\frac{1}{n-1}\\sum_{i=1}^{n}(x_i-X)\n",
    "        }^3\n",
    "        }$$\n",
    "        \n",
    "and \n",
    "        \n",
    "$$\\frac{3(Mean - Median)}{Standard Deviation}$$ also works"
   ]
  },
  {
   "cell_type": "code",
   "execution_count": 172,
   "metadata": {},
   "outputs": [
    {
     "name": "stdout",
     "output_type": "stream",
     "text": [
      "Positve[Right] Skweness\n",
      "--------------------\n",
      "Mean:  2.789473684210526\n",
      "Medain:  2.0\n",
      "Mode:  [2]\n",
      "Mean > Median\n",
      "Skweness:  0.9955182978601751\n",
      " \n",
      " \n",
      "Zero[No] Skweness\n",
      "--------------------\n",
      "Mean:  4.0\n",
      "Medain:  4.0\n",
      "Mode:  [4]\n",
      "Mean == Median\n",
      "Skweness:  0.0\n",
      " \n",
      " \n",
      "Negative[Left] Skweness\n",
      "--------------------\n",
      "Mean:  4.9\n",
      "Medain:  5.0\n",
      "Mode:  [6]\n",
      "Mean < Median\n",
      "Skweness:  -0.7234932151049145\n",
      " \n",
      " \n"
     ]
    }
   ],
   "source": [
    "from scipy import stats\n",
    "\n",
    "dataset_pos = pd.Series([1,1,1,1,2,2,2,2,2,2,3,3,3,3,4,4,5,5,7])\n",
    "dataset_zero = pd.Series([1,1,2,2,3,3,3,4,4,4,4,4,5,5,5,6,6,7,7])\n",
    "dataset_neg = pd.Series([1,2,3,3,4,4,4,5,5,5,5,6,6,6,6,6,6,7,7,7])\n",
    "\n",
    "print(\"Positve[Right] Skweness\")\n",
    "print(\"--\"*10)\n",
    "print(\"Mean: \", np.mean(dataset_pos))\n",
    "print(\"Medain: \", np.median(dataset_pos))\n",
    "print(\"Mode: \", stats.mode(dataset_pos)[0])\n",
    "print(\"Mean > Median\")\n",
    "print(\"Skweness: \",stats.skew(dataset_pos))\n",
    "print(\" \\n \")\n",
    "\n",
    "print(\"Zero[No] Skweness\")\n",
    "print(\"--\"*10)\n",
    "print(\"Mean: \", np.mean(dataset_zero))\n",
    "print(\"Medain: \", np.median(dataset_zero))\n",
    "print(\"Mode: \", stats.mode(dataset_zero)[0])\n",
    "print(\"Mean == Median\")\n",
    "print(\"Skweness: \",stats.skew(dataset_zero))\n",
    "print(\" \\n \")\n",
    "\n",
    "print(\"Negative[Left] Skweness\")\n",
    "print(\"--\"*10)\n",
    "print(\"Mean: \", np.mean(dataset_neg))\n",
    "print(\"Medain: \", np.median(dataset_neg))\n",
    "print(\"Mode: \", stats.mode(dataset_neg)[0])\n",
    "print(\"Mean < Median\")\n",
    "print(\"Skweness: \",stats.skew(dataset_neg))\n",
    "print(\" \\n \")"
   ]
  },
  {
   "cell_type": "code",
   "execution_count": 163,
   "metadata": {},
   "outputs": [],
   "source": [
    "def density_plot(ds):\n",
    "    f, (ax_box, ax_hist) = plt.subplots(2, sharex=True, gridspec_kw= {\"height_ratios\": (0.2, 1)})\n",
    "    mean = ds.mean()\n",
    "    median = ds.median()\n",
    "    mode = ds.mode().get_values()[0]\n",
    "    \n",
    "    sns.boxplot(ds, ax=ax_box)\n",
    "    ax_box.axvline(mean, color='r', linestyle='--')\n",
    "    ax_box.axvline(median, color='g', linestyle='-')\n",
    "    ax_box.axvline(mode, color='b', linestyle='-')\n",
    "    \n",
    "    sns.distplot(ds, hist=True, kde=True, ax=ax_hist,\n",
    "             color = 'darkblue', \n",
    "             hist_kws={'edgecolor':'black'},\n",
    "             kde_kws={'linewidth': 4})\n",
    "    ax_hist.axvline(mean, color='r', linestyle='--')\n",
    "    ax_hist.axvline(median, color='g', linestyle='-')\n",
    "    ax_hist.axvline(mode, color='b', linestyle='-')\n",
    "    \n",
    "    \n",
    "    plt.legend({'Mean':mean,'Median':median,'Mode':mode})\n",
    "\n",
    "    ax_box.set(xlabel='')\n",
    "    plt.show()"
   ]
  },
  {
   "cell_type": "code",
   "execution_count": 167,
   "metadata": {},
   "outputs": [
    {
     "name": "stdout",
     "output_type": "stream",
     "text": [
      "-------------------- Positve[Right] Skweness --------------------\n"
     ]
    },
    {
     "data": {
      "image/png": "[encoded data removed]",
      "text/plain": [
       "<Figure size 432x288 with 2 Axes>"
      ]
     },
     "metadata": {
      "needs_background": "light"
     },
     "output_type": "display_data"
    },
    {
     "name": "stdout",
     "output_type": "stream",
     "text": [
      "-------------------- Zero[No] Skweness --------------------\n"
     ]
    },
    {
     "data": {
      "image/png": "[encoded data removed]",
      "text/plain": [
       "<Figure size 432x288 with 2 Axes>"
      ]
     },
     "metadata": {
      "needs_background": "light"
     },
     "output_type": "display_data"
    },
    {
     "name": "stdout",
     "output_type": "stream",
     "text": [
      "-------------------- Negative[Left] Skweness --------------------\n"
     ]
    },
    {
     "data": {
      "image/png": "[encoded data removed]",
      "text/plain": [
       "<Figure size 432x288 with 2 Axes>"
      ]
     },
     "metadata": {
      "needs_background": "light"
     },
     "output_type": "display_data"
    }
   ],
   "source": [
    "print(\"--\"*10,\"Positve[Right] Skweness\",\"--\"*10,)\n",
    "density_plot(dataset_pos)\n",
    "print(\"--\"*10,\"Zero[No] Skweness\",\"--\"*10,)\n",
    "density_plot(dataset_zero)\n",
    "print(\"--\"*10,\"Negative[Left] Skweness\",\"--\"*10,)\n",
    "density_plot(dataset_neg)"
   ]
  },
  {
   "cell_type": "markdown",
   "metadata": {},
   "source": [
    "## Covariance and Correlation\n",
    "### Covariance\n",
    "The covariance is a measure for how two variables are related to each other, i.e., how two variables vary with each other.\n",
    "Let n be the population size, x and y two different features (variables), and μ the population mean; the covariance can then be formally defined as:[Population Formula]\n",
    "$$Covariance\\ (\\sigma{xy}) = \\frac{1}{N}\\sum_{i=0}^{n}(x_i-\\mu)(y_i-\\mu)$$\n",
    "- Covariance can be >0, 0 and <0\n",
    "- the magnitude of the covariance depends on the scale of each variable (the size of the population or sample mean)\n",
    "- Covariance gives senses of Direction\n",
    "    - \\>0: The two variables(features) move together\n",
    "    - < 0: The two variables(features) move opposite direction\n",
    "    - = 0: The two features are independent\n",
    "- The one problem with Covariance is it could be a number like 1, 50, 500, 0.00032 this becomes hard to interpret"
   ]
  },
  {
   "cell_type": "code",
   "execution_count": 213,
   "metadata": {},
   "outputs": [],
   "source": [
    "#Housing data to implement Covariance and Correlaiton\n",
    "HData = [\n",
    "    [650, 772000],\n",
    "    [785, 998000],\n",
    "    [120, 1200000],\n",
    "    [720, 800000],\n",
    "    [975, 895000]\n",
    "]\n",
    "hdata = pd.DataFrame(HData, columns=[\"Area_ft\",\"Price_$\"])\n"
   ]
  },
  {
   "cell_type": "code",
   "execution_count": 216,
   "metadata": {},
   "outputs": [
    {
     "data": {
      "text/html": [
       "<div>\n",
       "<style scoped>\n",
       "    .dataframe tbody tr th:only-of-type {\n",
       "        vertical-align: middle;\n",
       "    }\n",
       "\n",
       "    .dataframe tbody tr th {\n",
       "        vertical-align: top;\n",
       "    }\n",
       "\n",
       "    .dataframe thead th {\n",
       "        text-align: right;\n",
       "    }\n",
       "</style>\n",
       "<table border=\"1\" class=\"dataframe\">\n",
       "  <thead>\n",
       "    <tr style=\"text-align: right;\">\n",
       "      <th></th>\n",
       "      <th>Area_ft</th>\n",
       "      <th>Price_$</th>\n",
       "    </tr>\n",
       "  </thead>\n",
       "  <tbody>\n",
       "    <tr>\n",
       "      <th>0</th>\n",
       "      <td>650</td>\n",
       "      <td>772000</td>\n",
       "    </tr>\n",
       "    <tr>\n",
       "      <th>1</th>\n",
       "      <td>785</td>\n",
       "      <td>998000</td>\n",
       "    </tr>\n",
       "    <tr>\n",
       "      <th>2</th>\n",
       "      <td>120</td>\n",
       "      <td>1200000</td>\n",
       "    </tr>\n",
       "    <tr>\n",
       "      <th>3</th>\n",
       "      <td>720</td>\n",
       "      <td>800000</td>\n",
       "    </tr>\n",
       "    <tr>\n",
       "      <th>4</th>\n",
       "      <td>975</td>\n",
       "      <td>895000</td>\n",
       "    </tr>\n",
       "  </tbody>\n",
       "</table>\n",
       "</div>"
      ],
      "text/plain": [
       "   Area_ft  Price_$\n",
       "0      650   772000\n",
       "1      785   998000\n",
       "2      120  1200000\n",
       "3      720   800000\n",
       "4      975   895000"
      ]
     },
     "execution_count": 216,
     "metadata": {},
     "output_type": "execute_result"
    }
   ],
   "source": [
    "hdata.head()"
   ]
  },
  {
   "cell_type": "code",
   "execution_count": 221,
   "metadata": {},
   "outputs": [
    {
     "name": "stdout",
     "output_type": "stream",
     "text": [
      "\n",
      "----------- Calculating Covariance -----------\n",
      "\n",
      "            Area_ft       Price_$\n",
      "Area_ft    102412.5 -3.859875e+07\n",
      "Price_$ -38598750.0  3.014200e+10\n",
      "\n",
      "----------- Between Area and Price -----------\n",
      "\n",
      "-38598750.0\n"
     ]
    }
   ],
   "source": [
    "print(\"\\n----------- Calculating Covariance -----------\\n\")\n",
    "print(hdata.cov())\n",
    " \n",
    "print(\"\\n----------- Between Area and Price -----------\\n\")\n",
    "# Covariance of Area vs Price\n",
    "print(hdata.Area_ft.cov(hdata['Price_$']))"
   ]
  },
  {
   "cell_type": "markdown",
   "metadata": {},
   "source": [
    "As shown the value of covariance ranges all the way it's hard to interpret, \n",
    "and also, suppose feature x has a as unit and feature y has b as unit.\n",
    "After applying the Covariance, the result will be in the units of *ab*."
   ]
  },
  {
   "cell_type": "markdown",
   "metadata": {},
   "source": [
    "### Correlation\n",
    "\n",
    "Pearson’s ρ or “r” (or typically just called “correlation coefficient”) is measures the linear correlation between two features and is closely related to the covariance. In fact, it’s a normalized version of the covariance:\n",
    "$$\\rho = \\frac{Cov(x,y)}{std(x)\\times std(y)} = \\frac{\\sum_{i=1}^{n}[(x_i-\\mu_x)(y_i-\\mu_y)]}{\\sqrt{\\sum_{i=1}^{n}(x_i-\\mu_x)^2}\\sqrt{\\sum_{i=1}^{n}(y_i-\\mu_y)^2}} = \\frac{\\rho_{xy}}{\\rho_{x}\\rho_{y}}$$\n",
    "\n",
    "- Correlaiton adjusts covariance, so that the relationship between two variables becomes easy and intutive to interpret\n",
    "- -1 <= Correlation Coefficient <= 1\n"
   ]
  },
  {
   "cell_type": "code",
   "execution_count": 227,
   "metadata": {},
   "outputs": [
    {
     "data": {
      "text/plain": [
       "array([[ 1.        , -0.69472147],\n",
       "       [-0.69472147,  1.        ]])"
      ]
     },
     "execution_count": 227,
     "metadata": {},
     "output_type": "execute_result"
    }
   ],
   "source": [
    "np.corrcoef(hdata['Area_ft'], hdata['Price_$'])"
   ]
  },
  {
   "cell_type": "code",
   "execution_count": 234,
   "metadata": {},
   "outputs": [
    {
     "name": "stdout",
     "output_type": "stream",
     "text": [
      "Pearsons correlation: -0.695\n"
     ]
    }
   ],
   "source": [
    "from scipy.stats import pearsonr\n",
    "\n",
    "# calculate Pearson's correlation\n",
    "corr, _ = pearsonr(hdata['Area_ft'], hdata['Price_$'])\n",
    "print('Pearsons correlation: %.3f' % corr)"
   ]
  },
  {
   "cell_type": "markdown",
   "metadata": {},
   "source": [
    "We manipulated the strange covariance value (-38598750.0) to get something intuitive.\n"
   ]
  },
  {
   "cell_type": "code",
   "execution_count": null,
   "metadata": {},
   "outputs": [],
   "source": []
  }
 ],
 "metadata": {
  "kernelspec": {
   "display_name": "Python 3",
   "language": "python",
   "name": "python3"
  },
  "language_info": {
   "codemirror_mode": {
    "name": "ipython",
    "version": 3
   },
   "file_extension": ".py",
   "mimetype": "text/x-python",
   "name": "python",
   "nbconvert_exporter": "python",
   "pygments_lexer": "ipython3",
   "version": "3.7.1"
  }
 },
 "nbformat": 4,
 "nbformat_minor": 2
}
