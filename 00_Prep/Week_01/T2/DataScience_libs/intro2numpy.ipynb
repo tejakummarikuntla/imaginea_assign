{
 "cells": [
  {
   "cell_type": "markdown",
   "metadata": {},
   "source": [
    "# Introduction to NumPy\n",
    "\n",
    "-----"
   ]
  },
  {
   "cell_type": "markdown",
   "metadata": {},
   "source": [
    "As we discussed previously, the Python programming language provides a rich set of data structures such as the list, tuple, dictionary, and string, which can greatly simplify common programming tasks. Of these structures, all but the string are heterogeneous, which means they can hold data of different types. This flexibility comes at a cost, however, as it is more expensive in both computational time and storage to maintain an arbitrary collection of data than to hold a pre-defined set of data.\n",
    "\n",
    "-----\n",
    "\n",
    "## Optional: NumPy Implementation\n",
    "\n",
    "(Advanced: Optional) For example, the Python list is implemented (in the [Cython](http://cython.org) implementation) as a variable length array that contains pointers to the objects held in the array. While flexible, it takes time to create, resize, and iterate over, even if the data contained in the list is homogenous. Also, even though you can create multiple-dimensional lists, creating and working with them is neither simple or intuitive. Yet, many applications require multi-dimensional representation; for example, location on the surface of the Earth or pixel properties in an image.\n",
    "\n",
    "Thus, these data structures clearly are not designed or optimized for data intensive computing. Scientific and engineering computing applications have a long history of using optimized data structures and libraries, including codes written in C, Fortran, or MatLab. These applications expect to have vector and matrix data structures and optimized algorithms that can leverage these structures seamlessly.  Fortunately, since many data science applications, including statistical and machine learning, are built on this academic legacy, a community of open source developers have built the [Numerical Python (NumPy)](http://numpy.org) library, a fundamental numerical package to facilitate scientific computing in Python.\n",
    "\n",
    "------\n",
    "\n",
    "## NumPy Array\n",
    "\n",
    "NumPy is built around a new, n-dimensional array (`ndarray`) data structure that provides fast support for numerical computations. This data type for objects stored in the array can be specified at creation time, but the array is homogenous. This array can be used to represent a vector (one-dimensional set of numerical values) or matrix (multiple-dimensional set of vectors). Furthermore, NumPy provides additional benefits built on top of the `array` object, including _masked arrays_, _universal functions_, _sampling from random distributions_, and support for _user-defined, arbitrary data-types_ that allow the `array` to become an efficient, multi-dimensional generic data container.\n",
    "\n",
    "-----"
   ]
  },
  {
   "cell_type": "markdown",
   "metadata": {},
   "source": [
    "### Is NumPy Worth Learning?\n",
    "\n",
    "Despite the discussion in the previous section, you might be curious if the benefits of learning NumPy are worth the effort of learning to effectively use a new Python data structure, especially one that is not part of the standard Python distribution. In the end, you will have to make this decision, but there are several definite benefits to using NumPy:\n",
    "\n",
    "1. NumPy is much faster than using a `list`.\n",
    "2. NumPy is generally more intuitive than using a `list`.\n",
    "3. NumPy is used by many other libraries like SciPy, MatPlotLib, and Pandas.\n",
    "4. NumPy is part of the standard **data science** Python distribution.\n",
    "\n",
    "NumPy is a very powerful library, with a rich and detailed [user guide][1]. Every time I look through the documentation, I learn new tricks. Furthermore, NumPy is the foundation upon which other popular Python modules, such as Pandas and Seaborn, are based. The time you spend learning to use this library properly will be amply rewarded. In the rest of this IPython notebook, we will introduce many of the basic NumPy features, but to fully master this library you will need to spend time reading the documentation and trying out the full capabilities of the library.\n",
    "\n",
    "To demonstrate the first two points, consider the programming task of computing basic mathematical functions on a large number of data points. In the first code block, we first import both the `math` library and the `numpy` library. Second, we define two constants: size, which is the number of data points to process, and delta, which is a floating point offset we add to the array elements. You can change these two parameters to see how the performance of the different approaches varies. Finally, we create the `list` and the NumPy `array` that we will use in the next few codes blocks:\n",
    "\n",
    "-----\n",
    "\n",
    "[1]: http://docs.scipy.org/doc/numpy/user/"
   ]
  },
  {
   "cell_type": "code",
   "execution_count": 1,
   "metadata": {},
   "outputs": [
    {
     "name": "stdout",
     "output_type": "stream",
     "text": [
      "[2.01, 3.01, 4.01, 5.01]\n",
      "[ 2.01  3.01  4.01  5.01]\n"
     ]
    }
   ],
   "source": [
    "import math\n",
    "import numpy as np\n",
    "\n",
    "size = 100000\n",
    "delta = 1.0E-2\n",
    "\n",
    "aList = [(x + delta) for x in range(size)]\n",
    "anArray = np.arange(size) + delta\n",
    "\n",
    "print(aList[2:6])\n",
    "print(anArray[2:6])"
   ]
  },
  {
   "cell_type": "markdown",
   "metadata": {},
   "source": [
    "-----\n",
    "\n",
    "At this point, we have created and populated both data structures, and you have seen that they are both indexed in the same manner, meaning it is probably easier to learn and use NumPy arrays than you might have thought. Next, we can apply several standard mathematical functions to our `list`, creating new `list`s in the process. To determine how long these operations take, we use the IPython `%timeit` magic function, which will, by default, run the code contained on the rest of the line multiple times and report the _average_ best time.\n",
    "\n",
    "-----"
   ]
  },
  {
   "cell_type": "code",
   "execution_count": 2,
   "metadata": {},
   "outputs": [
    {
     "name": "stdout",
     "output_type": "stream",
     "text": [
      "100 loops, best of 3: 14.9 ms per loop\n",
      "100 loops, best of 3: 15.9 ms per loop\n",
      "100 loops, best of 3: 18.1 ms per loop\n"
     ]
    }
   ],
   "source": [
    "%timeit [math.sin(x) for x in aList]\n",
    "%timeit [math.cos(x) for x in aList]\n",
    "%timeit [math.log(x) for x in aList]"
   ]
  },
  {
   "cell_type": "markdown",
   "metadata": {},
   "source": [
    "-----\n",
    "\n",
    "As you can see, to create these new `list` objects, we apply the mathematical function to every angle in the original `list`. These operations are fairly fast and all roughly constant in time, demonstrating the overall speed of _list comprehensions_ in Python. Now we will try doing the same thing by using the NumPy library.\n",
    "\n",
    "-----"
   ]
  },
  {
   "cell_type": "code",
   "execution_count": 3,
   "metadata": {},
   "outputs": [
    {
     "name": "stdout",
     "output_type": "stream",
     "text": [
      "100 loops, best of 3: 3.22 ms per loop\n",
      "100 loops, best of 3: 2.96 ms per loop\n",
      "100 loops, best of 3: 2.45 ms per loop\n"
     ]
    }
   ],
   "source": [
    "%timeit np.sin(anArray)\n",
    "%timeit np.cos(anArray)\n",
    "%timeit np.log10(anArray)"
   ]
  },
  {
   "cell_type": "markdown",
   "metadata": {},
   "source": [
    "-----\n",
    "\n",
    "First, the creation of each of these new arrays was much faster, nearly a factor of ten in each case! (Actual results will depend on the host computer and Python version.) Second, the operations themselves were arguably simpler both to write and to read, as the function is applied to the data structure itself and not each individual element. But perhaps we should compare the results to ensure they are the same.\n",
    "\n",
    "-----"
   ]
  },
  {
   "cell_type": "code",
   "execution_count": 4,
   "metadata": {},
   "outputs": [
    {
     "name": "stdout",
     "output_type": "stream",
     "text": [
      "Python List:  [0.905090563325201, -0.9560397542711181, 0.9878538030350801]\n",
      "NumPY array: [ 0.90509056 -0.95603975  0.9878538 ]\n",
      "Difference =  [ 0.  0.]\n",
      "100 loops, best of 3: 5.42 ms per loop\n"
     ]
    }
   ],
   "source": [
    "l = [math.sin(x) for x in aList]\n",
    "a = np.sin(anArray)\n",
    "\n",
    "print(\"Python List: \", l[2:10:3])\n",
    "print(\"NumPY array:\", a[2:10:3])\n",
    "\n",
    "print(\"Difference = \", a[5:7] - np.array(l[5:7]))\n",
    "      \n",
    "# Now create a NumPy array from a Python list\n",
    "%timeit(np.sin(aList))"
   ]
  },
  {
   "cell_type": "markdown",
   "metadata": {},
   "source": [
    "-----\n",
    "\n",
    "As the previous code block demonstrates, the NumPy results agree with the standard Python results, although the NumPy results are more conveniently displayed. As a last test, we create a new NumPy `array` from the original Python `list` by applying the `np.sin` function, which, while not as fast as the pure NumPy version, is faster than the Python version and easier to read.\n",
    "\n",
    "Now we will change gears and introduce the NumPy library.\n",
    "\n",
    "-----"
   ]
  },
  {
   "cell_type": "markdown",
   "metadata": {},
   "source": [
    "### Creating an Array\n",
    "\n",
    "[NumPy arrays][i], which are instances of the `ndarray` class, are statically-typed, homogenous data structures that can be created in a number of [different ways][1]. You can create an array from an existing Python `list` or `tuple`, or use one of the many built-in NumPy convenience methods:\n",
    "\n",
    "- `empty`: Creates a new array whose elements are uninitialized.\n",
    "- `zeros`: Creates a new array whose elements are initialized to zero.\n",
    "- `ones`: Creates a new array whose elements are initialized to one.\n",
    "- `empty_like`: Creates a new array whose size matches the input array and whose values are uninitialized.\n",
    "- `zero_like`: Creates a new array whose size matches the input array and whose values are initialized to zero.\n",
    "- `ones_like`: Creates a new array whose size matches the input array and whose values are initialized to unity.\n",
    "\n",
    "-----\n",
    "[i]: http://docs.scipy.org/doc/numpy/reference/arrays.ndarray.html\n",
    "[1]: http://docs.scipy.org/doc/numpy/user/basics.creation.html"
   ]
  },
  {
   "cell_type": "code",
   "execution_count": 5,
   "metadata": {},
   "outputs": [
    {
     "name": "stdout",
     "output_type": "stream",
     "text": [
      "[0 1 2 3 4 5 6 7 8 9]\n",
      "\n",
      " [  0.00000000e+000   4.94065646e-324   9.88131292e-324   1.48219694e-323\n",
      "   1.97626258e-323   2.47032823e-323   2.96439388e-323   3.45845952e-323\n",
      "   3.95252517e-323   4.44659081e-323]\n",
      "\n",
      " [ 0.  0.  0.  0.  0.  0.  0.  0.  0.  0.]\n",
      "\n",
      " [ 1.  1.  1.  1.  1.  1.  1.  1.  1.  1.]\n",
      "\n",
      " [1 1 1 1 1 1 1 1 1 1]\n"
     ]
    }
   ],
   "source": [
    "# Make and print out simple NumPy arrays\n",
    "\n",
    "print(np.array([0, 1, 2, 3, 4, 5, 6, 7, 8, 9]))\n",
    "\n",
    "print(\"\\n\", np.empty(10))\n",
    "print(\"\\n\", np.zeros(10))\n",
    "print(\"\\n\", np.ones(10))\n",
    "print(\"\\n\", np.ones_like(np.arange(10)))"
   ]
  },
  {
   "cell_type": "markdown",
   "metadata": {},
   "source": [
    "-----\n",
    "\n",
    "We can also create NumPy arrays that have specific initialization patterns. For example, the `arange(start, end, stride)` method works like the normal Python `range` method, creating an array whose elements begin with the `start` parameter. Subsequent elements are incremented successively by the `stride` parameter, stopping when the `end` parameter would either be reached or surpassed. As was the case with the `range` method, the `start` and `stride`  parameters are optional, defaulting to zero and one, respectively, and the `end` value is not included in the array.\n",
    "\n",
    "-----"
   ]
  },
  {
   "cell_type": "code",
   "execution_count": 6,
   "metadata": {},
   "outputs": [
    {
     "name": "stdout",
     "output_type": "stream",
     "text": [
      "[0 1 2 3 4 5 6 7 8 9]\n",
      "[3 5 7 9]\n"
     ]
    }
   ],
   "source": [
    "# Demonstrate the np.arange method\n",
    "\n",
    "print(np.arange(10))\n",
    "print(np.arange(3, 10, 2))"
   ]
  },
  {
   "cell_type": "markdown",
   "metadata": {},
   "source": [
    "-----\n",
    "\n",
    "NumPy also provides two convenience methods that take a similar form but assign values to the elements that are evenly spaced. The first method is the `linspace(start, end, num)` method, which creates `num` elements and assigns values that are linearly spaced between `start` and `end`. \n",
    "\n",
    "The second method, `logspace(start, end, num)`, creates `num` elements and assigns values that are logarithmically spaced between `start` and `end`. The `num` parameter is optional and defaults to fifty. Unlike the `arange` method, these two methods are inclusive, which means both the `start` and `end` parameters are included as elements in the new array. There is an optional parameter called `base` that you can use to specify the base of the logarithm used to create the intervals. By default, this value is 10, making the intervals `log10` spaced.\n",
    "\n",
    "-----"
   ]
  },
  {
   "cell_type": "code",
   "execution_count": 7,
   "metadata": {},
   "outputs": [
    {
     "name": "stdout",
     "output_type": "stream",
     "text": [
      "Linear space bins [0, 10] = [  0.           3.33333333   6.66666667  10.        ]\n",
      "\n",
      "Default linspace bins = 50\n",
      "\n",
      "Log space bins [0, 1] = [  1.           2.15443469   4.64158883  10.        ]\n",
      "\n",
      "Default linspace bins = 50\n",
      "\n"
     ]
    }
   ],
   "source": [
    "# Demonstrate linear and logarthmic array creation.\n",
    "\n",
    "print(\"Linear space bins [0, 10] = {}\\n\".format(np.linspace(0, 10, 4)))\n",
    "\n",
    "print(\"Default linspace bins = {}\\n\".format(len(np.linspace(0,10))))\n",
    "\n",
    "\n",
    "print(\"Log space bins [0, 1] = {}\\n\".format(np.logspace(0, 1, 4)))\n",
    "\n",
    "print(\"Default linspace bins = {}\\n\".format(len(np.logspace(0,10))))"
   ]
  },
  {
   "cell_type": "markdown",
   "metadata": {},
   "source": [
    "-----\n",
    "\n",
    "### Array Attributes\n",
    "\n",
    "Each NumPy array has several attributes that describe the general features of the array. These attributes include the following:\n",
    "\n",
    "- `ndim`: Number of dimensions of the array (previous examples were all unity)\n",
    "- `shape`: The dimensions of the array, so a matrix with `n` rows and `m` columns has `shape` equal to `(n, m)`\n",
    "- `size`: The total number of elements in the array. For a matrix with n rows and m columns, the `size` is equal to the product of $n \\times m$\n",
    "- `dtype`: The data type of each element in the array\n",
    "- `itemsize`: The size in bytes of each element in the array\n",
    "- `data`: The buffer that holds the array data\n",
    "\n",
    "-----"
   ]
  },
  {
   "cell_type": "markdown",
   "metadata": {},
   "source": [
    "### Array Data Types\n",
    "\n",
    "NumPy arrays are statically-typed, thus their [data type][1] is specified when they are created. The default data type is `float`, but the type can be specified in several ways. First, if you use an existing `list` (as we did in the previous code block) or `array` to initialize the new `array`, the data type of the previous data structure will be used. If a heterogeneous Python `list` is used, the greatest data type will be used in order, guaranteeing that all values will be safely contained in the new `array`. If using a NumPy function to create the new `array`, the data type can be specified explicitly by using the `dtype` argument, which can either be one of the predefined built-in data types or a user defined custom data type.\n",
    "\n",
    "The full list of built-in data types can be obtained from the `np.sctypeDict.keys()` method; but for brevity, we list some of the more commonly used built-in data types below, along with their maximum size in bits, which constrains the maximum allowed value that may be stored in the new `array`:\n",
    "\n",
    "- Integer: `int8`, `int16`, `int32`, and `int64` \n",
    "- Unsigned Integer: `uint8`, `uint16`, `uint32`, and `uint64` \n",
    "- Floating Point: `float16`, `float32`, `float64`, and `float128` \n",
    "\n",
    "Other data types include complex numbers, byte arrays, character arrays, and date/time arrays. \n",
    "\n",
    "To check the type of an array, you can simply access the array's `dtype` attribute. A `ValueError` exception will be thrown if you try to assign an incompatible value to an element in an `array`. \n",
    "\n",
    "-----\n",
    "[1]: http://docs.scipy.org/doc/numpy/reference/arrays.dtypes.html"
   ]
  },
  {
   "cell_type": "code",
   "execution_count": 8,
   "metadata": {},
   "outputs": [
    {
     "data": {
      "text/plain": [
       "dtype('float64')"
      ]
     },
     "execution_count": 8,
     "metadata": {},
     "output_type": "execute_result"
    }
   ],
   "source": [
    "# Access our previously created array's data type \n",
    "\n",
    "a.dtype"
   ]
  },
  {
   "cell_type": "markdown",
   "metadata": {},
   "source": [
    "-----\n",
    "\n",
    "As previously declared, trying to assign the wrong data type to a NumPy array will throw a `ValueException`, as shown in the following figure (note: you can repeat this on your own in a new code cell).\n",
    "\n",
    "![NumPy ValueException](images/numpy-except.png)\n",
    "\n",
    "\n",
    "-----"
   ]
  },
  {
   "cell_type": "markdown",
   "metadata": {},
   "source": [
    "## Multidimensional Arrays\n",
    "\n",
    "NumPy supports multidimensional arrays, although for simplicity we will rarely discuss anything other than two- or three-dimensional arrays. We will defer a discussion of working with multi-dimensional arrays by using NumPy to a subsequent lesson in this course.\n"
   ]
  },
  {
   "cell_type": "markdown",
   "metadata": {},
   "source": [
    "-----\n",
    "\n",
    "## Indexing Arrays\n",
    "\n",
    "NumPy supports many different ways to [access elements][1] in an array. Elements can be indexed or sliced in the same way a Python list or tuple can be indexed or sliced, as demonstrated in the following code cell.\n",
    "\n",
    "------\n",
    "[1]: http://docs.scipy.org/doc/numpy/user/basics.indexing.html"
   ]
  },
  {
   "cell_type": "code",
   "execution_count": 9,
   "metadata": {},
   "outputs": [
    {
     "name": "stdout",
     "output_type": "stream",
     "text": [
      "Original Array =  [0 1 2 3 4 5 6 7 8]\n",
      "\n",
      "New Array =  [ 0  3 -2  4 -4  5  6  7  8]\n"
     ]
    }
   ],
   "source": [
    "a = np.arange(9)\n",
    "print(\"Original Array = \", a)\n",
    "\n",
    "a[1] = 3\n",
    "a[3:5] = 4\n",
    "a[0:6:2] *= -1\n",
    "\n",
    "print(\"\\nNew Array = \", a)"
   ]
  },
  {
   "cell_type": "markdown",
   "metadata": {},
   "source": [
    "-----\n",
    "\n",
    "### Special Indexing\n",
    "\n",
    "NumPy also provides several other _special_ indexing techniques. The first such technique is the use of an [index array][1], where you use an array to specify the elements to be selected. The second technique is a [Boolean mask array][2]. In this case, the Boolean array is the same size as the primary NumPy array, and if the element in the mask array is `True`, the corresponding element in the primary array is selected, and vice-versa for a `False` mask array element. These two special indexing techniques are demonstrated in the following two code cells.\n",
    "\n",
    "-----\n",
    "[1]: http://docs.scipy.org/doc/numpy/user/basics.indexing.html#index-arrays\n",
    "[2]: http://docs.scipy.org/doc/numpy/user/basics.indexing.html#boolean-or-mask-index-arrays"
   ]
  },
  {
   "cell_type": "code",
   "execution_count": 10,
   "metadata": {},
   "outputs": [
    {
     "name": "stdout",
     "output_type": "stream",
     "text": [
      "\n",
      "Starting array:\n",
      " [0 1 2 3 4 5 6 7 8 9]\n",
      "\n",
      "Index Access:  [1 3 5 7]\n"
     ]
    }
   ],
   "source": [
    "# Demonstration of an index array\n",
    "\n",
    "a = np.arange(10)\n",
    "\n",
    "print(\"\\nStarting array:\\n\", a)\n",
    "print(\"\\nIndex Access: \", a[np.array([1, 3, 5, 7])])"
   ]
  },
  {
   "cell_type": "code",
   "execution_count": 11,
   "metadata": {},
   "outputs": [
    {
     "name": "stdout",
     "output_type": "stream",
     "text": [
      "Original Array: [0 1 2 3 4 5 6 7 8 9]\n",
      "\n",
      "Mask Array:  [False False False False False  True  True  True  True  True]\n",
      "\n",
      "New Array:  [ 0  1  2  3  4 -1 -1 -1 -1 -1]\n"
     ]
    }
   ],
   "source": [
    "# Demonstrate Boolean mask access\n",
    "\n",
    "# Simple case\n",
    "\n",
    "a = np.arange(10)\n",
    "print(\"Original Array:\", a)\n",
    "\n",
    "print(\"\\nMask Array: \", a > 4)\n",
    "\n",
    "# Now change the values by using the mask\n",
    "\n",
    "a[a > 4] = -1.0\n",
    "print(\"\\nNew Array: \", a)"
   ]
  },
  {
   "cell_type": "markdown",
   "metadata": {},
   "source": [
    "-----\n",
    "\n",
    "### Random Data\n",
    "\n",
    "NumPy has a rich support for [random number][1] generation, which can be used to create and populate an array of a given shape and size. NumPy provides support for sampling random values from over 30 different distributions including the `binomial`, `normal`, and `poisson` (we will discuss distribution functions in subsequent lessons). There are also special convenience functions to simplify the sampling of random data over the uniform or normal distributions. These techniques are demonstrated in the following code cell.\n",
    "\n",
    "\n",
    "-----\n",
    "[1]: http://docs.scipy.org/doc/numpy/reference/routines.random.html"
   ]
  },
  {
   "cell_type": "code",
   "execution_count": 12,
   "metadata": {},
   "outputs": [
    {
     "name": "stdout",
     "output_type": "stream",
     "text": [
      "Uniform sampling, integers [0, 1): [0 7 8 3 5]\n",
      "Uniform sampling [0, 1): [ 0.10414894  0.46937001  0.97924147  0.53198289  0.76179296]\n",
      "Normal sampling (0, 1) : [-0.3062182   1.33454188 -0.14899812  0.34857033  0.84714033]\n"
     ]
    }
   ],
   "source": [
    "# Create arrays of random data from different distributions\n",
    "\n",
    "print(\"Uniform sampling, integers [0, 1): {}\".format(np.random.randint(0, 10, 5)))\n",
    "print(\"Uniform sampling [0, 1): {}\".format(np.random.rand(5)))\n",
    "print(\"Normal sampling (0, 1) : {0}\".format(np.random.randn(5)))"
   ]
  },
  {
   "cell_type": "markdown",
   "metadata": {},
   "source": [
    "-----\n",
    "\n",
    "### Basic Operations\n",
    "\n",
    "NumPy arrays naturally support basic mathematical operations, including addition, subtraction, multiplication, division, integer division, and remainder, allowing you to easily combine a scalar (a single number) with a vector (a one-dimensional array), or a matrix (a multi-dimensional array). In the next code block, we first create a one-dimensional array, and subsequently operate on this array to demonstrate how to combine a scalar with a vector.\n",
    "\n",
    "-----"
   ]
  },
  {
   "cell_type": "code",
   "execution_count": 13,
   "metadata": {},
   "outputs": [
    {
     "name": "stdout",
     "output_type": "stream",
     "text": [
      "[0 1 2 3 4 5 6 7 8 9]\n",
      "\n",
      " [ 0.33333333  1.          1.66666667  2.33333333  3.          3.66666667\n",
      "  4.33333333  5.          5.66666667  6.33333333]\n",
      "\n",
      " [0 1 0 1 0 1 0 1 0 1]\n",
      "\n",
      " [0 0 1 1 2 2 3 3 4 4]\n"
     ]
    }
   ],
   "source": [
    "# Create and use a vector\n",
    "a = np.arange(10)\n",
    "\n",
    "print(a)\n",
    "print(\"\\n\", (2.0 * a + 1)/3)\n",
    "print(\"\\n\", a%2)\n",
    "print(\"\\n\", a//2)"
   ]
  },
  {
   "cell_type": "markdown",
   "metadata": {},
   "source": [
    "-----\n",
    "\n",
    "<font color='red' size = '5'> Student Exercise </font>\n",
    "\n",
    "In the empty **Code** cell below, first create a one-dimensional NumPy array by using the `arange` function of the integers zero to ten, inclusive. Next, perform the following  basic math operations on this new array and display only the final result. First, add two to every element. Second, multiply the result by five. Finally, subtract seven. Next, create a second array of eleven, randomly selected integers between zero and ten, and multiply this new array by the original array, displaying the result.\n",
    "\n",
    "-----"
   ]
  },
  {
   "cell_type": "code",
   "execution_count": null,
   "metadata": {
    "collapsed": true
   },
   "outputs": [],
   "source": []
  },
  {
   "cell_type": "markdown",
   "metadata": {},
   "source": [
    "-----\n",
    "\n",
    "### Summary Functions\n",
    "\n",
    "NumPy provides convenience functions that can quickly summarize the values of an array, which can be very useful for specific data processing tasks (note that we will cover descriptive statistics in a subsequent lesson). These functions include basic [statistical measures][1] (`mean`, `median`, `var`, `std`, `min`, and `max`), the total sum or product of all elements in the array (`sum`, `prod`), as well as running sums or products for all elements in the array (`cumsum`, `cumprod`). The last two functions actually produce arrays that are of the same size as the input array, where each element is replaced by the respective running sum/product up to and including the current element. Another function, `trace`, calculates the trace of an array, which simply sums up the diagonal elements in the multi-dimensional array.\n",
    "\n",
    "\n",
    "-----\n",
    "\n",
    "[1]: http://docs.scipy.org/doc/numpy/reference/routines.statistics.html"
   ]
  },
  {
   "cell_type": "code",
   "execution_count": 14,
   "metadata": {},
   "outputs": [
    {
     "name": "stdout",
     "output_type": "stream",
     "text": [
      "Mean value = 3.0\n",
      "Median value = 3.0\n",
      "Variance = 2.0\n",
      "Std. Deviation = 1.4142135623730951\n",
      "\n",
      "Minimum value = 1\n",
      "Maximum value = 5\n",
      "\n",
      "Sum of all values = 15\n",
      "Running cumulative sum of all values = [ 1  3  6 10 15]\n",
      "\n",
      "Product of all values = 120\n",
      "Running product of all values = [  1   2   6  24 120]\n",
      "\n"
     ]
    }
   ],
   "source": [
    "# Demonstrate data processing convenience functions\n",
    "\n",
    "# Make an array = [1, 2, 3, 4, 5]\n",
    "a = np.arange(1, 6)\n",
    "\n",
    "print(\"Mean value = {}\".format(np.mean(a)))\n",
    "print(\"Median value = {}\".format(np.median(a)))\n",
    "print(\"Variance = {}\".format(np.var(a)))\n",
    "print(\"Std. Deviation = {}\\n\".format(np.std(a)))\n",
    "\n",
    "print(\"Minimum value = {}\".format(np.min(a)))\n",
    "print(\"Maximum value = {}\\n\".format(np.max(a)))\n",
    "\n",
    "print(\"Sum of all values = {}\".format(np.sum(a)))\n",
    "print(\"Running cumulative sum of all values = {}\\n\".format(np.cumsum(a)))\n",
    "\n",
    "print(\"Product of all values = {}\".format(np.prod(a)))\n",
    "print(\"Running product of all values = {}\\n\".format(np.cumprod(a)))"
   ]
  },
  {
   "cell_type": "markdown",
   "metadata": {},
   "source": [
    "-----\n",
    "\n",
    "### Universal Functions\n",
    "\n",
    "NumPy also includes methods that are _universal functions_ or [__ufuncs__][1] that are vectorized and thus operate on each element in the array, without the need for a loop. You have already seen examples of some of these functions at the start of this IPython Notebook when we compared the speed and simplicity of NumPy versus normal Python for numerical operations. These functions almost all include an optional `out` parameter that allows a pre-defined NumPy array to be used to hold the results of the calculation, which can often speed-up the processing by eliminating the need for the creation and destruction of temporary arrays. These functions will all still return the final array, even if the `out` parameter is used. \n",
    "\n",
    "NumPy includes over sixty _ufuncs_ that come in several different categories:\n",
    "\n",
    "- Math operations, which can be called explicitly or simply implicitly when the standard math operators are used on NumPy arrays. Example functions in this category include `add`, `divide`, `power`, `sqrt`, `log`, and `exp`.\n",
    "- Trigonometric functions, which assume angles measured in radians. Example functions include the `sin`, `cos`, `arctan`, `sinh`, and `deg2rad` functions.\n",
    "- Bit-twiddling functions, which manipulate integer arrays as if they are bit patterns. Example functions include the `bitwise_and`, `bitwise_or`, `invert`, and `right_shift`.\n",
    "- Comparison functions, which can be called explicitly or implicitly when using standard comparison operators that compare two arrays, element-by-element, returning a new array of the same dimension. Example functions include `greater`, `equal`, `logical_and`, and `maximum`.\n",
    "- Floating functions, which compute floating point tests or operations, element-by-element. Example functions include `isreal`, `isnan`, `signbit`, and `fmod`.\n",
    "\n",
    "Look at the official [NumPy _ufunc_][1] reference guide for more information on any of these functions, for example, the [isnan][2] function, since the user guide has a full breakdown of each function and sample code demonstrating how to use the function. \n",
    "\n",
    "In the following code blocks, we demonstrate several of these _ufuncs_.\n",
    "\n",
    "-----\n",
    "[1]: http://docs.scipy.org/doc/numpy/reference/ufuncs.html\n",
    "[2]: http://docs.scipy.org/doc/numpy/reference/generated/numpy.isnan.html#numpy.isnan"
   ]
  },
  {
   "cell_type": "code",
   "execution_count": 15,
   "metadata": {},
   "outputs": [
    {
     "name": "stdout",
     "output_type": "stream",
     "text": [
      "original array:\n",
      " [1 2 3 4 5 6 7 8 9]\n",
      "\n",
      "np.sin : \n",
      " [ 0.84147098  0.90929743  0.14112001 -0.7568025  -0.95892427 -0.2794155\n",
      "  0.6569866   0.98935825  0.41211849]\n",
      "\n",
      "np.log and np.abs : \n",
      " [-0.07496085 -0.04129404 -0.85041141 -0.12101744 -0.01821569 -0.55374951\n",
      " -0.18244349 -0.00464642 -0.38497791]\n",
      "\n",
      "np.mod : \n",
      " [1 0 1 0 1 0 1 0 1]\n",
      "\n",
      "np.logical_and : \n",
      " [ True False  True False  True False  True False  True]\n"
     ]
    }
   ],
   "source": [
    "b = np.arange(1, 10)\n",
    "\n",
    "print('original array:\\n', b)\n",
    "\n",
    "c = np.sin(b)\n",
    "\n",
    "print('\\nnp.sin : \\n', c)\n",
    "\n",
    "print('\\nnp.log and np.abs : \\n', np.log10(np.abs(c)))\n",
    "\n",
    "print('\\nnp.mod : \\n', np.mod(b, 2))\n",
    "\n",
    "print('\\nnp.logical_and : \\n', np.logical_and(np.mod(b, 2), True))\n",
    "\n"
   ]
  },
  {
   "cell_type": "code",
   "execution_count": 16,
   "metadata": {},
   "outputs": [
    {
     "name": "stdout",
     "output_type": "stream",
     "text": [
      "Greater Than or Equal Test: \n",
      " [False False False False False  True  True  True  True]\n"
     ]
    },
    {
     "data": {
      "text/plain": [
       "array([False, False, False, False, False,  True, False,  True, False], dtype=bool)"
      ]
     },
     "execution_count": 16,
     "metadata": {},
     "output_type": "execute_result"
    }
   ],
   "source": [
    "# Demonstrate Boolean tests with operators\n",
    "\n",
    "d = np.arange(9)\n",
    "\n",
    "print(\"Greater Than or Equal Test: \\n\", d >= 5)\n",
    "\n",
    "# Now combine to form Boolean Matrix\n",
    "\n",
    "np.logical_and(d > 3, d % 2)"
   ]
  },
  {
   "cell_type": "markdown",
   "metadata": {},
   "source": [
    "-----\n",
    "\n",
    "### Masked Arrays\n",
    "\n",
    "NumPy provides support for [masked arrays][1], where certain elements can be _masked_ based on some criterion and ignored during subsequent calculations (i.e., these elements are masked). Masked arrays are in the `numpy.ma` package, and simply require a masked array to be created from a given array and a condition that indicates which elements should be masked. This new masked array can be used as a normal NumPy array, except the masked elements are ignored. NumPy provides [operations][2] for masked arrays, allowing them to be used in a similar manner as normal NumPy arrays.\n",
    "\n",
    "You can also impute missing (or bad) values by using a masked array, and replacing masked elements with a different value, such as the mean value. Masked arrays can also be used to mask out bad values in a calculation such as divide-by-zero or logarithm of zero, and a masked array will ignore error conditions during standard operations, making them very useful since they operate in a graceful manner.\n",
    "\n",
    "-----\n",
    "\n",
    "[1]: http://docs.scipy.org/doc/numpy/reference/maskedarray.generic.html#examples\n",
    "[2]: http://docs.scipy.org/doc/numpy/reference/routines.ma.html"
   ]
  },
  {
   "cell_type": "code",
   "execution_count": 17,
   "metadata": {},
   "outputs": [
    {
     "name": "stdout",
     "output_type": "stream",
     "text": [
      "Original array = : [0.0, 1.0, -9999.0, 3.0, 4.0]\n",
      "\n",
      "Masked array = : [0.0 1.0 -- 3.0 4.0]\n",
      "\n",
      "Mean value of masked elements: 2.0\n",
      "\n",
      "Operate on unmasked elements:  [-2.0 -1.0 -- 1.0 2.0]\n",
      "\n",
      " Impute missing values (using mean):  [ 0.  1.  2.  3.  4.]\n"
     ]
    }
   ],
   "source": [
    "# Create and demonstrate a masked array\n",
    "\n",
    "import numpy.ma as ma\n",
    "\n",
    "x = [0.,1.,-9999.,3.,4.]\n",
    "print(\"Original array = :\", x)\n",
    "\n",
    "\n",
    "mx = ma.masked_values (x, -9999.)\n",
    "print(\"\\nMasked array = :\", mx)\n",
    "\n",
    "\n",
    "print(\"\\nMean value of masked elements:\", mx.mean())\n",
    "print(\"\\nOperate on unmasked elements: \", mx - mx.mean())\n",
    "print(\"\\n Impute missing values (using mean): \", mx.filled(mx.mean())) # Imputation"
   ]
  },
  {
   "cell_type": "code",
   "execution_count": 18,
   "metadata": {},
   "outputs": [
    {
     "name": "stdout",
     "output_type": "stream",
     "text": [
      "[1.0 -- -- 1.0 -- --]\n"
     ]
    },
    {
     "name": "stderr",
     "output_type": "stream",
     "text": [
      "/opt/conda/envs/py36/lib/python3.6/site-packages/ipykernel_launcher.py:6: RuntimeWarning: invalid value encountered in sqrt\n",
      "  \n"
     ]
    }
   ],
   "source": [
    "# Create two arrays with masks\n",
    "x = ma.array([1., -1., 3., 4., 5., 6.], mask=[0,0,0,0,1,0])\n",
    "y = ma.array([1., 2., 0., 4., 5., 6.], mask=[0,0,0,0,0,1])\n",
    "\n",
    "# Now take square root, ignores div by zero and masked elements.\n",
    "print(np.sqrt(x/y))"
   ]
  },
  {
   "cell_type": "code",
   "execution_count": 19,
   "metadata": {},
   "outputs": [
    {
     "name": "stdout",
     "output_type": "stream",
     "text": [
      "Masked array mean value:  0.482553042648\n"
     ]
    }
   ],
   "source": [
    "# Now try some random data\n",
    "\n",
    "d = np.random.rand(1000)\n",
    "\n",
    "# Now mask for values within some specified range (0.1 to 0.9)\n",
    "print(\"Masked array mean value: \", ma.masked_outside(d, 0.1, 0.9).mean())"
   ]
  },
  {
   "cell_type": "markdown",
   "metadata": {},
   "source": [
    "-----\n",
    "\n",
    "### NumPy File Input/Output\n",
    "\n",
    "NumPy has support for reading or writing data to [files][1]. Of these methods, two of the most useful are the [`loadtxt` method][3] and the [`genfromext` method][2], each of which allow you to easily read data from a text file into a NumPy array. The primary difference is that the `genfromtxt` method can handle missing data, while the `loadtxt` cannot. Both methods allow you to specify the column delimiter, easily skip header or footer rows, specify which columns should be extracted for each row, and allow you to _unpack_ the row so that each column goes into a separate array.\n",
    "\n",
    "For example, the following code snippet demonstrates how to use the `loadtxt` method to pull out the second and fourth columns from the `fin` file handle, where the file is assumed to be in CSV format. The data is persisted into the `a` and `b` NumPy arrays.\n",
    "\n",
    "```python\n",
    "a, b = np.loadtxt(fin, delimeter = ',', usecols=(1, 3), unpack=True)\n",
    "```\n",
    "\n",
    "We demonstrate the `genfromtxt` method in the following code block, where we first create the test data file before reading that data back into a NumPy array.\n",
    "\n",
    "-----\n",
    "\n",
    "[1]: http://docs.scipy.org/doc/numpy/user/basics.io.html\n",
    "[2]: http://docs.scipy.org/doc/numpy/user/basics.io.genfromtxt.html#defining-the-input\n",
    "[3]: http://docs.scipy.org/doc/numpy/reference/generated/numpy.loadtxt.html#numpy.loadtxt"
   ]
  },
  {
   "cell_type": "code",
   "execution_count": 20,
   "metadata": {},
   "outputs": [
    {
     "name": "stdout",
     "output_type": "stream",
     "text": [
      "New Array = \n",
      " [[  1.   2.   3.   4.   5.]\n",
      " [  6.   7.   8.   9.  10.]]\n"
     ]
    }
   ],
   "source": [
    "# First write data to a file using Unix commands. \n",
    "info = \"1, 2, 3, 4, 5 \\n 6, 7, 8, 9, 10\"\n",
    "with open(\"test.csv\", 'w') as fout:\n",
    "    print(info, file=fout)\n",
    "\n",
    "# Now we can read it back into a NumPy array.\n",
    "d = np.genfromtxt(\"test.csv\", delimiter=\",\")\n",
    "\n",
    "print(\"New Array = \\n\", d)"
   ]
  },
  {
   "cell_type": "markdown",
   "metadata": {},
   "source": [
    "-----\n",
    "\n",
    "In addition to the normal Python `help` function, NumPy provides a special `lookup` function that will search the NumPy library for classes, types, or methods that match the search string passed to the function. This can be useful for finding specific information given a general concept, or to learn more about related topics by performing a search.\n",
    "\n",
    "-----"
   ]
  },
  {
   "cell_type": "code",
   "execution_count": 21,
   "metadata": {},
   "outputs": [
    {
     "name": "stdout",
     "output_type": "stream",
     "text": [
      "Search results for 'masked array'\n",
      "---------------------------------\n",
      "numpy.ma.array\n",
      "    An array class with possibly masked values.\n",
      "numpy.mafromtxt\n",
      "    Load ASCII data stored in a text file and return a masked array.\n",
      "numpy.ma.asarray\n",
      "    Convert the input to a masked array of the given data-type.\n",
      "numpy.ma.dot\n",
      "    Return the dot product of two arrays.\n",
      "numpy.ma.put\n",
      "    Set storage-indexed locations to corresponding values.\n",
      "numpy.ma.asanyarray\n",
      "    Convert the input to a masked array, conserving subclasses.\n",
      "numpy.ma.diag\n",
      "    Extract a diagonal or construct a diagonal array.\n",
      "numpy.ma.dump\n",
      "    Pickle a masked array to a file.\n",
      "numpy.ma.isMA\n",
      "    Test whether input is an instance of MaskedArray.\n",
      "numpy.ma.masked_all\n",
      "    Empty masked array with all elements masked.\n",
      "numpy.ma.count\n",
      "    Count the non-masked elements of the array along the given axis.\n",
      "numpy.ma.dumps\n",
      "    Return a string corresponding to the pickling of a masked array.\n",
      "numpy.ma.masked_less\n",
      "    Mask an array where less than a given value.\n",
      "numpy.ma.mvoid\n",
      "    Fake a 'void' object to use for masked array with structured dtypes.\n",
      "numpy.ma.power\n",
      "    Returns element-wise base array raised to power from second array.\n",
      "numpy.ma.where\n",
      "    Return a masked array with elements from x or y, depending on condition.\n",
      "numpy.ma.clump_masked\n",
      "    Returns a list of slices corresponding to the masked clumps of a 1-D array.\n",
      "numpy.ma.filled\n",
      "    Return input as an array with masked data replaced by a fill value.\n",
      "numpy.ma.getmaskarray\n",
      "    Return the mask of a masked array, or full boolean array of False.\n",
      "numpy.ma.masked_equal\n",
      "    Mask an array where equal to a given value.\n",
      "numpy.ma.masked_where\n",
      "    Mask an array where a condition is met.\n",
      "numpy.ma.resize\n",
      "    Return a new masked array with the specified size and shape.\n",
      "numpy.ma.unique\n",
      "    Finds the unique elements of an array.\n",
      "numpy.ma.MAError\n",
      "    Class for masked array related errors.\n",
      "numpy.ma.argsort\n",
      "    Return an ndarray of indices that sort the array along the\n",
      "numpy.ma.ediff1d\n",
      "    Compute the differences between consecutive elements of an array.\n",
      "numpy.ma.getdata\n",
      "    Return the data of a masked array as an ndarray.\n",
      "numpy.ma.getmask\n",
      "    Return the mask of a masked array, or nomask.\n",
      "numpy.ma.masked_inside\n",
      "    Mask an array inside a given interval.\n",
      "numpy.ma.masked_object\n",
      "    Mask the array `x` where the data are exactly equal to value.\n",
      "numpy.ma.masked_values\n",
      "    Mask using floating point equality.\n",
      "numpy.ma.putmask\n",
      "    Changes elements of an array based on conditional and input values.\n",
      "numpy.ma.reshape\n",
      "    Returns an array containing the same data with a new shape.\n",
      "numpy.ma.union1d\n",
      "    Union of two arrays.\n",
      "numpy.ma.allclose\n",
      "    Returns True if two arrays are element-wise equal within a tolerance.\n",
      "numpy.ma.clump_unmasked\n",
      "    Return list of slices corresponding to the unmasked clumps of a 1-D array.\n",
      "numpy.ma.fromflex\n",
      "    Build a masked array from a suitable flexible-type array.\n",
      "numpy.ma.masked_greater\n",
      "    Mask an array where greater than a given value.\n",
      "numpy.ma.masked_invalid\n",
      "    Mask an array where invalid values occur (NaNs or infs).\n",
      "numpy.ma.masked_outside\n",
      "    Mask an array outside a given interval.\n",
      "numpy.ma.setxor1d\n",
      "    Set exclusive-or of 1-D arrays with unique elements.\n",
      "numpy.ma.mask_cols\n",
      "    Mask columns of a 2D array that contain masked values.\n",
      "numpy.ma.mask_rows\n",
      "    Mask rows of a 2D array that contain masked values.\n",
      "numpy.ma.masked_all_like\n",
      "    Empty masked array with the properties of an existing array.\n",
      "numpy.ma.setdiff1d\n",
      "    Set difference of 1D arrays with unique elements.\n",
      "numpy.ma.compressed\n",
      "    Return all the non-masked data as a 1-D array.\n",
      "numpy.ma.left_shift\n",
      "    Shift the bits of an integer to the left.\n",
      "numpy.ma.masked_not_equal\n",
      "    Mask an array where `not` equal to a given value.\n",
      "numpy.ma.MaskedArray\n",
      "    An array class with possibly masked values.\n",
      "numpy.ma.intersect1d\n",
      "    Returns the unique elements common to both arrays.\n",
      "numpy.ma.masked_less_equal\n",
      "    Mask an array where less than or equal to a given value.\n",
      "numpy.ma.right_shift\n",
      "    Shift the bits of an integer to the right.\n",
      "numpy.ma.mask_rowcols\n",
      "    Mask rows and/or columns of a 2D array that contain masked values.\n",
      "numpy.ma.compress_cols\n",
      "    Suppress whole columns of a 2-D array that contain masked values.\n",
      "numpy.ma.compress_rows\n",
      "    Suppress whole rows of a 2-D array that contain masked values.\n",
      "numpy.ma.flatnotmasked_edges\n",
      "    Find the indices of the first and last unmasked values.\n",
      "numpy.ma.masked_greater_equal\n",
      "    Mask an array where greater than or equal to a given value.\n",
      "numpy.ma.notmasked_contiguous\n",
      "    Find contiguous unmasked data in a masked array along the given axis.\n",
      "numpy.ma.set_fill_value\n",
      "    Set the filling value of a, if a is a masked array.\n",
      "numpy.ma.compress_rowcols\n",
      "    Suppress the rows and/or columns of a 2-D array that contain\n",
      "numpy.ma.common_fill_value\n",
      "    Return the common filling value of two masked arrays, if any.\n",
      "numpy.ma.flatnotmasked_contiguous\n",
      "    Find contiguous unmasked data in a masked array along the given axis.\n",
      "numpy.ma.mrecords.fromarrays\n",
      "    Creates a mrecarray from a (flat) list of masked arrays.\n",
      "numpy.ma.mvoid.__new__\n",
      "    Create a new masked array from scratch.\n",
      "numpy.ma.MaskedArray.all\n",
      "    Returns True if all elements evaluate to True.\n",
      "numpy.ma.MaskedArray.dot\n",
      "    Masked dot product of two arrays. Note that `out` and `strict` are\n",
      "numpy.ma.MaskedArray.std\n",
      "    Returns the standard deviation of the array elements along given axis.\n",
      "numpy.ma.MaskedArray.sum\n",
      "    Return the sum of the array elements over the given axis.\n",
      "numpy.ma.MaskedArray.mean\n",
      "    Returns the average of the array elements along given axis.\n",
      "numpy.ma.MaskedArray.prod\n",
      "    Return the product of the array elements over the given axis.\n",
      "numpy.ma.MaskedArray.count\n",
      "    Count the non-masked elements of the array along the given axis.\n",
      "numpy.ma.mrecords.addfield\n",
      "    Adds a new field to the masked record array\n",
      "numpy.ma.MaskedArray.argmax\n",
      "    Returns array of indices of the maximum values along the given axis.\n",
      "numpy.ma.MaskedArray.astype\n",
      "    Returns a copy of the MaskedArray cast to given newtype.\n",
      "numpy.ma.MaskedArray.cumsum\n",
      "    Return the cumulative sum of the array elements over the given axis.\n",
      "numpy.ma.MaskedArray.filled\n",
      "    Return a copy of self, with masked values filled with a given value.\n",
      "numpy.ma.MaskedArray.tofile\n",
      "    Save a masked array to a file in binary format.\n",
      "numpy.ma.MaskedArray.toflex\n",
      "    Transforms a masked array into a flexible-type array.\n",
      "numpy.ma.MaskedArray.tolist\n",
      "    Return the data portion of the masked array as a hierarchical Python list.\n",
      "numpy.ma.MaskedArray.__add__\n",
      "    Add self to other, and return a new masked array.\n",
      "numpy.ma.MaskedArray.__div__\n",
      "    Divide other into self, and return a new masked array.\n",
      "numpy.ma.MaskedArray.__mul__\n",
      "    Multiply self by other, and return a new masked array.\n",
      "numpy.ma.MaskedArray.__new__\n",
      "    Create a new masked array from scratch.\n",
      "numpy.ma.MaskedArray.__sub__\n",
      "    Subtract other from self, and return a new masked array.\n",
      "numpy.ma.MaskedArray.argsort\n",
      "    Return an ndarray of indices that sort the array along the\n",
      "numpy.ma.MaskedArray.cumprod\n",
      "    Return the cumulative product of the array elements over the given axis.\n",
      "numpy.ma.MaskedArray.nonzero\n",
      "    Return the indices of unmasked elements that are not zero.\n",
      "numpy.ma.MaskedArray.reshape\n",
      "    Give a new shape to the array without changing its data.\n",
      "numpy.ma.MaskedArray.__radd__\n",
      "    Add other to self, and return a new masked array.\n",
      "numpy.ma.MaskedArray.__rmul__\n",
      "    Multiply other by self, and return a new masked array.\n",
      "numpy.ma.MaskedArray.__rsub__\n",
      "    Subtract self from other, and return a new masked array.\n",
      "numpy.ma.MaskedArray.compress\n",
      "    Return `a` where condition is ``True``.\n",
      "numpy.ma.MaskedArray.get_imag\n",
      "    Return the imaginary part of the masked array.\n",
      "numpy.ma.MaskedArray.get_real\n",
      "    Return the real part of the masked array.\n",
      "numpy.ma.MaskedArray.__reduce__\n",
      "    Return a 3-tuple for pickling a MaskedArray.\n",
      "numpy.ma.MaskedArray.compressed\n",
      "    Return all the non-masked data as a 1-D array.\n",
      "numpy.ma.testutils.assert_array_equal\n",
      "    Checks the elementwise equality of two masked arrays.\n",
      "numpy.ma.MaskedArray.__getitem__\n",
      "    x.__getitem__(y) <==> x[y]\n",
      "numpy.ma.MaskedArray.__truediv__\n",
      "    Divide other into self, and return a new masked array.\n",
      "numpy.ma.MaskedArray.harden_mask\n",
      "    Force the mask to hard.\n",
      "numpy.ma.MaskedArray.soften_mask\n",
      "    Force the mask to soft.\n",
      "numpy.ma.testutils.fail_if_array_equal\n",
      "    Raises an assertion error if two masked arrays are not equal elementwise.\n",
      "numpy.ma.MaskedArray.__array_finalize__\n",
      "    Finalizes the masked array.\n",
      "numpy.ma.MaskedArray.__floordiv__\n",
      "    Divide other into self, and return a new masked array.\n",
      "numpy.ma.MaskedArray.__getstate__\n",
      "    Return the internal state of the masked array, for pickling\n",
      "numpy.ma.MaskedArray.__rtruediv__\n",
      "    Divide self into other, and return a new masked array.\n",
      "numpy.ma.MaskedArray.__setstate__\n",
      "    Restore the internal state of the masked array, for\n",
      "numpy.ma.MaskedArray.unshare_mask\n",
      "    Copy the mask and set the sharedmask flag to False.\n",
      "numpy.ma.testutils.assert_array_compare\n",
      "    Asserts that comparison between two masked arrays is satisfied.\n",
      "numpy.ma.MaskedArray.__rfloordiv__\n",
      "    Divide self into other, and return a new masked array.\n",
      "numpy.ma.MaskedArray.get_fill_value\n",
      "    Return the filling value of the masked array.\n",
      "numpy.ma.MaskedArray.set_fill_value\n",
      "    Set the filling value of the masked array.\n",
      "numpy.array_repr\n",
      "    Return the string representation of an array.\n",
      "numpy.ma.testutils.assert_array_almost_equal\n",
      "    Checks the equality of two masked arrays, up to given number odecimals.\n",
      "numpy.ma.testutils.assert_array_approx_equal\n",
      "    Checks the equality of two masked arrays, up to given number odecimals.\n",
      "numpy.place\n",
      "    Change elements of an array based on conditional and input values.\n",
      "numpy.ravel\n",
      "    Return a contiguous flattened array.\n",
      "numpy.nditer\n",
      "    Efficient multi-dimensional iterator object to iterate over arrays.\n",
      "numpy.ediff1d\n",
      "    The differences between consecutive elements of an array.\n",
      "numpy.ma.mrecords.MaskedRecords.__new__\n",
      "    Create a new masked array from scratch.\n",
      "numpy.recfromcsv\n",
      "    Load ASCII data stored in a comma-separated file.\n",
      "numpy.recfromtxt\n",
      "    Load ASCII data from a file and return it in a record array.\n",
      "numpy.concatenate\n",
      "    Join a sequence of arrays along an existing axis.\n",
      "numpy.ma.is_masked\n",
      "    Determine whether input has masked values.\n",
      "numpy.ma.std\n",
      "    Returns the standard deviation of the array elements along given axis.\n",
      "numpy.ma.sum\n",
      "    Return the sum of the array elements over the given axis.\n",
      "numpy.ma.in1d\n",
      "    Test whether each element of an array is also present in a second\n",
      "numpy.ma.mean\n",
      "    Returns the average of the array elements along given axis.\n",
      "numpy.ma.prod\n",
      "    Return the product of the array elements over the given axis.\n",
      "numpy.ma.sort\n",
      "    Sort the array, in-place\n",
      "numpy.ma.mrecords.MaskedRecords.__reduce__\n",
      "    Return a 3-tuple for pickling a MaskedArray.\n",
      "numpy.ma.inner\n",
      "    Inner product of two arrays.\n",
      "numpy.ma.append\n",
      "    Append values to the end of an array.\n",
      "numpy.ma.argmax\n",
      "    Returns array of indices of the maximum values along the given axis.\n",
      "numpy.ma.argmin\n",
      "    Return array of indices to the minimum values along the given axis.\n",
      "numpy.ma.choose\n",
      "    Use an index array to construct a new array from a set of choices.\n",
      "numpy.ma.count_masked\n",
      "    Count the number of masked elements along the given axis.\n",
      "numpy.ma.cumsum\n",
      "    Return the cumulative sum of the array elements over the given axis.\n",
      "numpy.ma.median\n",
      "    Compute the median along the specified axis.\n",
      "numpy.ma.mrecords.MaskedRecords.__array_finalize__\n",
      "    Finalizes the masked array.\n",
      "numpy.ma.mrecords.MaskedRecords.__getstate__\n",
      "    Return the internal state of the masked array.\n",
      "numpy.ma.mrecords.MaskedRecords.__setstate__\n",
      "    Restore the internal state of the masked array.\n",
      "numpy.ma.average\n",
      "    Return the weighted average of array over the given axis.\n",
      "numpy.ma.cumprod\n",
      "    Return the cumulative product of the array elements over the given axis.\n",
      "numpy.ma.nonzero\n",
      "    nonzero(self)\n",
      "numpy.ma.product\n",
      "    Return the product of the array elements over the given axis.\n",
      "numpy.ma.allequal\n",
      "    Return True if all entries of a and b are equal, using\n",
      "numpy.ma.notmasked_edges\n",
      "    Find the indices of the first and last unmasked values along an axis.\n",
      "numpy.ma.transpose\n",
      "    Permute the dimensions of an array.\n",
      "numpy.ma.compress_nd\n",
      "    Supress slices from multiple dimensions which contain masked values.\n",
      "numpy.ma.concatenate\n",
      "    Concatenate a sequence of arrays along the given axis.\n",
      "numpy.ma.expand_dims\n",
      "    Expand the shape of an array.\n",
      "numpy.ma.fix_invalid\n",
      "    Return input with invalid data masked and replaced by a fill value.\n",
      "numpy.ma.timer_comparison.ModuleTester.assert_array_equal\n",
      "    Checks the elementwise equality of two masked arrays.\n",
      "numpy.ma.timer_comparison.ModuleTester.assert_array_compare\n",
      "    Assert that a comparison of two masked arrays is satisfied elementwise.\n",
      "numpy.ma.flatten_structured_array\n",
      "    Flatten a structured array.\n",
      "numpy.ma.mvoid.filled\n",
      "    Return a copy with masked fields filled with a given value.\n",
      "numpy.ma.MaskedArray.any\n",
      "    Returns True if any of the elements of `a` evaluate to True.\n",
      "numpy.ma.MaskedArray.mini\n",
      "    Return the array minimum along the specified axis.\n",
      "numpy.ma.MaskedArray.sort\n",
      "    Sort the array, in-place\n",
      "numpy.ma.MaskedArray.argmin\n",
      "    Return array of indices to the minimum values along the given axis.\n",
      "numpy.ma.MaskedArray.tobytes\n",
      "    Return the array data as a string containing the raw bytes in the array.\n",
      "numpy.lib.recfunctions.merge_arrays\n",
      "    Merge arrays field by field.\n",
      "numpy.lib.recfunctions.stack_arrays\n",
      "    Superposes arrays fields by fields\n",
      "numpy.ma.mrecords.fromrecords\n",
      "    Creates a MaskedRecords from a list of records.\n",
      "numpy.lib.recfunctions.join_by\n",
      "    Join arrays `r1` and `r2` on key `key`.\n",
      "numpy.ma.mrecords.MaskedRecords\n",
      "    Attributes\n",
      "numpy.lib.recfunctions.drop_fields\n",
      "    Return a new array with fields in `drop_names` dropped.\n",
      "numpy.lib.recfunctions.append_fields\n",
      "    Add new fields to an existing array.\n",
      "numpy.lib.recfunctions.find_duplicates\n",
      "    Find the duplicates in a structured array along a given key\n",
      "numpy.average\n",
      "    Compute the weighted average along the specified axis.\n",
      "numpy.ma.mrecords.MaskedRecords.tolist\n",
      "    Return the data portion of the array as a list.\n",
      "numpy.genfromtxt\n",
      "    Load data from a text file, with missing values handled as specified.\n",
      "numpy.ma.all\n",
      "    Returns True if all elements evaluate to True.\n",
      "numpy.ma.any\n",
      "    Returns True if any of the elements of `a` evaluate to True.\n",
      "numpy.ma.cov\n",
      "    Estimate the covariance matrix.\n",
      "numpy.ma.max\n",
      "    Return the maximum along a given axis.\n",
      "numpy.ma.min\n",
      "    Return the minimum along a given axis.\n",
      "numpy.ma.ptp\n",
      "    Return (maximum - minimum) along the given dimension\n",
      "numpy.ma.anom\n",
      "    Compute the anomalies (deviations from the arithmetic mean)\n",
      "numpy.ma.loads\n",
      "    Load a pickle from the current string.\n",
      "numpy.ma.outer\n",
      "    Compute the outer product of two vectors.\n",
      "numpy.ma.ravel\n",
      "    Returns a 1D version of self, as a view.\n",
      "numpy.ma.vander\n",
      "    Generate a Vandermonde matrix.\n",
      "numpy.ma.is_mask\n",
      "    Return True if m is a valid, standard mask.\n",
      "numpy.ma.mask_or\n",
      "    Combine two masks with the ``logical_or`` operator.\n",
      "numpy.ma.polyfit\n",
      "    Least squares polynomial fit.\n",
      "numpy.ma.compress\n",
      "    Return `a` where condition is ``True``.\n",
      "numpy.ma.convolve\n",
      "    Returns the discrete, linear convolution of two one-dimensional sequences.\n",
      "numpy.ma.corrcoef\n",
      "    Return Pearson product-moment correlation coefficients.\n",
      "numpy.ma.correlate\n",
      "    Cross-correlation of two 1-dimensional sequences.\n",
      "numpy.ma.harden_mask\n",
      "    harden_mask(self)\n",
      "numpy.ma.soften_mask\n",
      "    soften_mask(self)\n",
      "numpy.ma.apply_over_axes\n",
      "    Apply a function repeatedly over multiple axes.\n",
      "numpy.ma.maximum_fill_value\n",
      "    Return the minimum value that can be represented by the dtype of an object.\n",
      "numpy.ma.minimum_fill_value\n",
      "    Return the maximum value that can be represented by the dtype of an object.\n",
      "numpy.ma.MaskedArray.max\n",
      "    Return the maximum along a given axis.\n",
      "numpy.ma.MaskedArray.min\n",
      "    Return the minimum along a given axis.\n",
      "numpy.ma.MaskedArray.ptp\n",
      "    Return (maximum - minimum) along the given dimension\n",
      "numpy.ma.MaskedArray.put\n",
      "    Set storage-indexed locations to corresponding values.\n",
      "numpy.ma.MaskedArray.anom\n",
      "    Compute the anomalies (deviations from the arithmetic mean)\n",
      "numpy.ma.MaskedArray.ravel\n",
      "    Returns a 1D version of self, as a view.\n",
      "numpy.ma.MaskedArray.resize\n",
      "    .. warning::\n",
      "numpy.ma.MaskedArray.iscontiguous\n",
      "    Return a boolean indicating whether the data is contiguous."
     ]
    }
   ],
   "source": [
    "np.lookfor('masked array')"
   ]
  },
  {
   "cell_type": "markdown",
   "metadata": {},
   "source": [
    "-----\n",
    "\n",
    "<font color='red' size = '5'> Student Exercise </font>\n",
    "\n",
    "In the empty **Code** cell below, first create a one-dimensional NumPy array of the even integers from 20 to 42, inclusive. Next, apply a ufunc to compute the fourth power of each element in this array. Divide each element in this array by 11, and print out the resulting elements, one element per line.\n",
    "\n",
    "-----"
   ]
  },
  {
   "cell_type": "code",
   "execution_count": null,
   "metadata": {
    "collapsed": true
   },
   "outputs": [],
   "source": []
  },
  {
   "cell_type": "markdown",
   "metadata": {},
   "source": [
    "-----\n",
    "\n",
    "## Ancillary Information\n",
    "\n",
    "The following links are to additional documentation that you might find helpful in learning this material. Reading these web-accessible documents is completely optional.\n",
    "\n",
    "1. [NumPy tutorial][1]\n",
    "2. [NumPy cheatsheet][2]\n",
    "3. [NumPy lecture notes][3]\n",
    "4. [NumPy notebook demo][4]\n",
    "3. The [NumPy chapter][pdc] from the book _Python Data Science Handbook_ by Jake VanderPlas\n",
    "\n",
    "-----\n",
    "\n",
    "[1]: http://docs.scipy.org/doc/numpy/user/index.html\n",
    "[2]: http://pages.physics.cornell.edu/~myers/teaching/ComputationalMethods/python/arrays.html\n",
    "[3]: http://www.scipy-lectures.org/intro/numpy/index.html\n",
    "[4]: http://nbviewer.ipython.org/github/jrjohansson/scientific-python-lectures/blob/master/Lecture-2-Numpy.ipynb\n",
    "[pdc]: http://nbviewer.jupyter.org/github/jakevdp/PythonDataScienceHandbook/blob/master/notebooks/02.00-Introduction-to-NumPy.ipynb"
   ]
  },
  {
   "cell_type": "markdown",
   "metadata": {
    "deletable": false,
    "editable": false
   },
   "source": [
    "**&copy; 2017: Robert J. Brunner at the University of Illinois.**\n",
    "\n",
    "This notebook is released under the [Creative Commons license CC BY-NC-SA 4.0][ll]. Any reproduction, adaptation, distribution, dissemination or making available of this notebook for commercial use is not allowed unless authorized in writing by the copyright holder.\n",
    "\n",
    "[ll]: https://creativecommons.org/licenses/by-nc-sa/4.0/legalcode "
   ]
  }
 ],
 "metadata": {
  "kernelspec": {
   "display_name": "Python 3",
   "language": "python",
   "name": "python3"
  },
  "language_info": {
   "codemirror_mode": {
    "name": "ipython",
    "version": 3
   },
   "file_extension": ".py",
   "mimetype": "text/x-python",
   "name": "python",
   "nbconvert_exporter": "python",
   "pygments_lexer": "ipython3",
   "version": "3.6.1"
  }
 },
 "nbformat": 4,
 "nbformat_minor": 1
}
