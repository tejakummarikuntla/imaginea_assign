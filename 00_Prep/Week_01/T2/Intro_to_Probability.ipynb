{
 "cells": [
  {
   "cell_type": "markdown",
   "metadata": {},
   "source": [
    "# Probability"
   ]
  },
  {
   "cell_type": "code",
   "execution_count": 53,
   "metadata": {},
   "outputs": [],
   "source": [
    "import numpy as np\n",
    "import pandas as pd\n",
    "import matplotlib.pyplot as plt\n",
    "import seaborn as sns"
   ]
  },
  {
   "cell_type": "markdown",
   "metadata": {},
   "source": [
    "## Permutations\n",
    "A Permutation of a set of objects is an arrangement of the objects in a certain order\n",
    "### Total Permutation of set N\n",
    "- The possible permutations of letters a,b and c is:\n",
    "abc, acb, bac, bca, cab, cba\n",
    "- We can calculate the number of possible permuations as n! [n factorial]\n",
    "$$n!$$\n",
    "- Example: abc = 3 items.\n",
    "n! = 3! = 3x2x1 = 6\n",
    "### Permutations without repetitions\n",
    "- you can also take a subset of items in a permutation\n",
    "- The number of permutations of a set of n objects taken r at a time is given by the following formula:\n",
    "npr = n!/(n-r)!\n",
    "### Permutations with repetitions\n",
    "- The number of arrangements of n objects taken r at a time, with repetitions given by\n",
    "$$ n^r $$\n"
   ]
  },
  {
   "cell_type": "code",
   "execution_count": 54,
   "metadata": {},
   "outputs": [
    {
     "name": "stdout",
     "output_type": "stream",
     "text": [
      "Input data = [0 1 2 3]\n",
      "Possible permutation (n^r)=  16\n",
      "0 0 \n",
      "0 1 \n",
      "0 2 \n",
      "0 3 \n",
      "1 0 \n",
      "1 1 \n",
      "1 2 \n",
      "1 3 \n",
      "2 0 \n",
      "2 1 \n",
      "2 2 \n",
      "2 3 \n",
      "3 0 \n",
      "3 1 \n",
      "3 2 \n",
      "3 3 \n"
     ]
    }
   ],
   "source": [
    "# Number of items in our input set\n",
    "n = 4\n",
    "\n",
    "# Number of iterm to select at one time\n",
    "r = 2 \n",
    "\n",
    "# Data\n",
    "data = np.arange(n)\n",
    "\n",
    "# Permutations with Replacement\n",
    "print(\"Input data = {}\".format(data))\n",
    "print(\"Possible permutation (n^r)= \", n**r)\n",
    "\n",
    "# compute and display actual permutations (with replacement)\n",
    "from itertools import product\n",
    "for cm in product(data, repeat=r):\n",
    "    for c in cm:\n",
    "        print(f'{c} ', end='')\n",
    "    print()"
   ]
  },
  {
   "cell_type": "code",
   "execution_count": 55,
   "metadata": {},
   "outputs": [
    {
     "name": "stdout",
     "output_type": "stream",
     "text": [
      "Input data:  [0 1 2 3]\n",
      "possible Permutations =  12.0\n",
      "0 1 \n",
      "0 2 \n",
      "0 3 \n",
      "1 0 \n",
      "1 2 \n",
      "1 3 \n",
      "2 0 \n",
      "2 1 \n",
      "2 3 \n",
      "3 0 \n",
      "3 1 \n",
      "3 2 \n"
     ]
    }
   ],
   "source": [
    "#Permutations without repetitions\n",
    "from math import factorial\n",
    "from itertools import permutations\n",
    "\n",
    "print(\"Input data: \",data)\n",
    "n_fact = factorial(n)\n",
    "n_r_fact = factorial(n-r)\n",
    "print(\"possible Permutations = \",n_fact/n_r_fact)\n",
    "\n",
    "# Displaying actual permutations\n",
    "for pm in permutations(data, r):\n",
    "    for p in pm:\n",
    "        print(f'{p} ', end='')\n",
    "    print()"
   ]
  },
  {
   "cell_type": "markdown",
   "metadata": {},
   "source": [
    "## Combinations\n",
    "- Unordered arrangements of objects are called combinations.\n",
    "\n",
    "ex: A group of people selected for a team are the same group, no matter the order\n",
    "\n",
    "ex: A pizza that is half tomato, half spinach is the same as one half spinach, half tomato.\n",
    "### Combinations without replacemnts\n",
    "- The number of combinations of a set of n objects taken r at a time is given by:\n",
    "ncr = n!/r!(n-r)!\n",
    "\n",
    "### Combinations with Replacements:\n",
    "- ncr = r+n-1cr = (r+n-1)!/r!(n-1)!"
   ]
  },
  {
   "cell_type": "code",
   "execution_count": 56,
   "metadata": {},
   "outputs": [
    {
     "name": "stdout",
     "output_type": "stream",
     "text": [
      "Input data:  [0 1 2 3]\n",
      "Possible Combinations:  6.0\n",
      "0 1 \n",
      "0 2 \n",
      "0 3 \n",
      "1 2 \n",
      "1 3 \n",
      "2 3 \n"
     ]
    }
   ],
   "source": [
    "# Combinations without Replacements:\n",
    "\n",
    "print(\"Input data: \", data)\n",
    "\n",
    "n_fact = factorial(n)\n",
    "n_r_fact = factorial(n-r)\n",
    "r_fact = factorial(r)\n",
    "\n",
    "print(\"Possible Combinations: \", n_fact/(n_r_fact * r_fact))\n",
    "\n",
    "from itertools import combinations\n",
    "\n",
    "# Combinations\n",
    "for cm in combinations(data, r):\n",
    "    for c in cm:\n",
    "        print(f'{c} ', end='')\n",
    "    print()"
   ]
  },
  {
   "cell_type": "code",
   "execution_count": 57,
   "metadata": {},
   "outputs": [
    {
     "name": "stdout",
     "output_type": "stream",
     "text": [
      "Input data:  [0 1 2 3]\n",
      "Possible Combinations:  0.5\n",
      "0 0 \n",
      "0 1 \n",
      "0 2 \n",
      "0 3 \n",
      "1 1 \n",
      "1 2 \n",
      "1 3 \n",
      "2 2 \n",
      "2 3 \n",
      "3 3 \n"
     ]
    }
   ],
   "source": [
    "# Combinations with Replacements:\n",
    "\n",
    "print(\"Input data: \", data)\n",
    "\n",
    "n_fact = factorial(n)\n",
    "n_r_1_fact = factorial(r+1-1)\n",
    "r_fact = factorial(r)\n",
    "\n",
    "print(\"Possible Combinations: \", n_r_1_fact/(n_r_fact * r_fact))\n",
    "\n",
    "from itertools import combinations_with_replacement\n",
    "\n",
    "# Combinations\n",
    "for cm in combinations_with_replacement(data, r):\n",
    "    for c in cm:\n",
    "        print(f'{c} ', end='')\n",
    "    print()"
   ]
  },
  {
   "cell_type": "markdown",
   "metadata": {},
   "source": [
    "## Probability\n",
    "\n",
    "### Flipping a coin"
   ]
  },
  {
   "cell_type": "code",
   "execution_count": 58,
   "metadata": {
    "scrolled": false
   },
   "outputs": [],
   "source": [
    "# Probability of flipping heads\n",
    "ph = 0.5\n",
    "\n",
    "# Number of coins flips to simulate\n",
    "num_flips = 200000\n",
    "flips_lst = [x for x in range(1000,200000,1000)]\n",
    "#flips_lst=[100]\n",
    "\n",
    "# simulate coin flips\n",
    "def flip_coin(N,p=0.5):\n",
    "    prob = [p, (1-p)]\n",
    "    return np.random.choice(['H','T'], size=N, p=prob)\n",
    "prob_list = []\n",
    "for num_flips in flips_lst:\n",
    "    # Accumulate flips\n",
    "    flips = flip_coin(num_flips)\n",
    "\n",
    "    # count heads\n",
    "    num_heads = np.sum(flips == 'H')\n",
    "    prob_list.append(num_heads/num_flips)\n",
    "# Results\n",
    "#print(\"Flips: \",\" \".join(flips))\n",
    "#print(\"number of heads: \",num_heads)\n",
    "#print(f'P(H) = {num_heads/num_flips}( Number of Heads/ Toatal Flips)')\n"
   ]
  },
  {
   "cell_type": "code",
   "execution_count": 59,
   "metadata": {},
   "outputs": [],
   "source": [
    "y=sorted(prob_list)"
   ]
  },
  {
   "cell_type": "code",
   "execution_count": 60,
   "metadata": {},
   "outputs": [
    {
     "data": {
      "text/plain": [
       "<matplotlib.axes._subplots.AxesSubplot at 0x7f0787c6fd68>"
      ]
     },
     "execution_count": 60,
     "metadata": {},
     "output_type": "execute_result"
    },
    {
     "data": {
      "image/png": "[encoded data removed]",
      "text/plain": [
       "<Figure size 432x288 with 1 Axes>"
      ]
     },
     "metadata": {
      "needs_background": "light"
     },
     "output_type": "display_data"
    }
   ],
   "source": [
    "import seaborn as sns\n",
    "sns.lineplot(flips_lst,y)"
   ]
  },
  {
   "cell_type": "code",
   "execution_count": 61,
   "metadata": {},
   "outputs": [
    {
     "data": {
      "text/plain": [
       "<matplotlib.collections.PathCollection at 0x7f0787bb0518>"
      ]
     },
     "execution_count": 61,
     "metadata": {},
     "output_type": "execute_result"
    },
    {
     "data": {
      "image/png": "[encoded data removed]",
      "text/plain": [
       "<Figure size 432x288 with 1 Axes>"
      ]
     },
     "metadata": {
      "needs_background": "light"
     },
     "output_type": "display_data"
    }
   ],
   "source": [
    "plt.scatter(flips_lst, prob_list)"
   ]
  },
  {
   "cell_type": "code",
   "execution_count": 62,
   "metadata": {},
   "outputs": [
    {
     "data": {
      "text/plain": [
       "0.4999479653550293"
      ]
     },
     "execution_count": 62,
     "metadata": {},
     "output_type": "execute_result"
    }
   ],
   "source": [
    "np.mean(prob_list)"
   ]
  },
  {
   "cell_type": "code",
   "execution_count": 63,
   "metadata": {},
   "outputs": [
    {
     "name": "stdout",
     "output_type": "stream",
     "text": [
      "H T H T H T T T H H T T H T T T H H H T T T H T H T T H T H H H H T H H T H H T T H H H T T T H T H \n",
      "H H H T T H T H H H T H H T T T T T H H H T H T T H T T H H H H T T H H H H T H H T H H T T H H H T \n",
      "T H T H T H T H H H H T T H H H T H H H T H T H T H H T T T T H T T T T T H T H H T T T H H H H T T \n",
      "\n",
      "Number of Heads: 142\n",
      "P(H) = 0.568 (Number of Heads/Total Flips)\n"
     ]
    }
   ],
   "source": [
    "# Probabilty of flipping heads\n",
    "ph = 0.5\n",
    "\n",
    "# How many times to flip a coin\n",
    "num_flips = 250\n",
    "\n",
    "# Function to print out sequence of results from a coin flip\n",
    "def print_flips(flps, print_width = 50):\n",
    "    \n",
    "    # How many coin flip results we have displayed\n",
    "    count = 0\n",
    "    \n",
    "    # We limit to 100 total\n",
    "    if flps.shape[0] > 100:\n",
    "        flips = flps[:-100]\n",
    "    else:\n",
    "        flips = flps[:]\n",
    "    \n",
    "    # Iterate through flips, displaying one at a time.\n",
    "    for flip in flips:\n",
    "        count += 1\n",
    "        print(f'{flip}', end=' ')\n",
    "        \n",
    "        # We format to only display print_width flips on one line\n",
    "        if (count % print_width) == 0:\n",
    "            print() # Print Newline\n",
    "    print() # Print newline\n",
    "    \n",
    "# Function to generate num_flips coin flips\n",
    "def make_flips(num_flips, ph):\n",
    "    \n",
    "    # Flip coin num_flips number of times\n",
    "    flips = flip_coin(num_flips, ph)\n",
    "    \n",
    "    # Display results\n",
    "    print_flips(flips)\n",
    "\n",
    "    # Accumulate heads\n",
    "    num_heads = np.sum(flips == 'H')\n",
    "\n",
    "    # Display results\n",
    "    print(f\"Number of Heads: {num_heads}\")\n",
    "    print(f'P(H) = {num_heads/num_flips} (Number of Heads/Total Flips)')\n",
    "\n",
    "make_flips(num_flips, ph)"
   ]
  },
  {
   "cell_type": "markdown",
   "metadata": {},
   "source": []
  },
  {
   "cell_type": "code",
   "execution_count": null,
   "metadata": {},
   "outputs": [],
   "source": []
  },
  {
   "cell_type": "markdown",
   "metadata": {},
   "source": [
    "Imagine you have a coin and fliped it for 5 times and noted the outcome, what is the probability that the outcome has atleast 3 Heads in it>"
   ]
  },
  {
   "cell_type": "code",
   "execution_count": 64,
   "metadata": {},
   "outputs": [],
   "source": [
    "# Solving Theoretically\n",
    "  \n",
    "# Returns factorial of n \n",
    "def fact(n): \n",
    "    res = 1\n",
    "    for i in range(2, n+1): \n",
    "        res = res * i \n",
    "    return res \n",
    "\n",
    "def nCr(n, r): \n",
    "    return (fact(n) / (fact(r)  \n",
    "                * fact(n - r))) "
   ]
  },
  {
   "cell_type": "code",
   "execution_count": 65,
   "metadata": {},
   "outputs": [
    {
     "data": {
      "text/plain": [
       "0.5"
      ]
     },
     "execution_count": 65,
     "metadata": {},
     "output_type": "execute_result"
    }
   ],
   "source": [
    "( nCr(5,3)*(0.5**3)*(0.5**2) ) + ( nCr(5,4)*(0.5**4)*(0.5**1) ) + ( nCr(5,5)*(0.5**5)*(0.5**0) )"
   ]
  },
  {
   "cell_type": "code",
   "execution_count": 66,
   "metadata": {},
   "outputs": [],
   "source": [
    "# Solving by using Simulaitons\n",
    "\n",
    "def make_group_flips(num_flips, ph):\n",
    "    \n",
    "    # Flip coin num_flips number of times\n",
    "    flips = flip_coin(num_flips, ph)\n",
    "    return flips\n",
    "\n",
    "five_group_flips = []\n",
    "for i in range(1000000):\n",
    "    five_group_flips.append(make_group_flips(5, ph))\n"
   ]
  },
  {
   "cell_type": "code",
   "execution_count": 68,
   "metadata": {},
   "outputs": [
    {
     "name": "stdout",
     "output_type": "stream",
     "text": [
      "Number of Exps having more than 3 Heads: 499643\n",
      "P(3H) = 0.499643 (Number of Heads/Total Flips)\n"
     ]
    }
   ],
   "source": [
    "req_num_flips = 0\n",
    "for i in range(len(five_group_flips)):\n",
    "    H_count = 0\n",
    "    for j in range(5):\n",
    "        if five_group_flips[i][j] == 'H':\n",
    "            H_count += 1\n",
    "    if H_count >= 3:\n",
    "        req_num_flips += 1\n",
    "\n",
    "# Display results\n",
    "print(f\"Number of Exps having more than 3 Heads: {req_num_flips}\")\n",
    "print(f'P(3H) = {req_num_flips/len(five_group_flips)} (Number of Heads/Total Flips)')"
   ]
  },
  {
   "cell_type": "code",
   "execution_count": null,
   "metadata": {},
   "outputs": [],
   "source": []
  },
  {
   "cell_type": "code",
   "execution_count": null,
   "metadata": {},
   "outputs": [],
   "source": []
  }
 ],
 "metadata": {
  "kernelspec": {
   "display_name": "Python 3",
   "language": "python",
   "name": "python3"
  },
  "language_info": {
   "codemirror_mode": {
    "name": "ipython",
    "version": 3
   },
   "file_extension": ".py",
   "mimetype": "text/x-python",
   "name": "python",
   "nbconvert_exporter": "python",
   "pygments_lexer": "ipython3",
   "version": "3.7.3"
  }
 },
 "nbformat": 4,
 "nbformat_minor": 2
}
