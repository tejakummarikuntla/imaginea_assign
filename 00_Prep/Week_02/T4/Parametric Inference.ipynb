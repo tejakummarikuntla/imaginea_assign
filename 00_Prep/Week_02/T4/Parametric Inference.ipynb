{
 "cells": [
  {
   "cell_type": "markdown",
   "metadata": {},
   "source": [
    "# Parametric Inference\n",
    "- ref: https://ocw.mit.edu/courses/mathematics/18-650-statistics-for-applications-fall-2016/lecture-videos/lecture-3-video/"
   ]
  },
  {
   "cell_type": "markdown",
   "metadata": {},
   "source": []
  },
  {
   "cell_type": "markdown",
   "metadata": {},
   "source": [
    "### IID [Independent Identically Distributed]\n",
    "\n",
    "A more technical definition of an IID statistics is that random variables X1, X2, . . . , Xn are IID if they share the same probability distribution and are independent events. Sharing the same probability distribution means that if you plotted all of the variables together, they would resemble some kind of distribution: a uniform distribution, a normal distribution or any one of the dozens of other distributions."
   ]
  },
  {
   "cell_type": "markdown",
   "metadata": {},
   "source": [
    "## Statistical Expriment\n",
    "\n",
    "Let the observed outcome of a statistical experiment be a sample\n",
    "X1, . . . , Xn of n i.i.d. random variables in some measurable space\n",
    "$E$ (usually $E ⊆ {\\rm I\\!R}$) and denote by ${\\rm I\\!P}$ their common distribution. A\n",
    "statistical model associated to that statistical experiment is a pair\n",
    "\n",
    "$$(E,({\\rm I\\!P}_θ)_{θ∈Θ}) $$\n",
    "\n",
    "- E is sample space and thats a set;\n",
    "- $({\\rm I\\!P}_θ)_{θ∈Θ}$ is a family of probability measures on E;\n",
    "- Θ is any set, called parameter set.\n",
    "__________________"
   ]
  },
  {
   "cell_type": "markdown",
   "metadata": {},
   "source": [
    "- ${\\rm I\\!P}_\\theta$ is the family of distributions\n",
    "    - where $\\theta$ where theta ranges is some Captial Theta $Θ$\n",
    "    - Each of $P_\\theta$ is a probability distribution\n",
    "        - for example, P could be poission distribution.\n",
    "            - $\\theta$ could be Poission with paramater $\\theta$, ${\\rm I\\!P}(\\theta)$\n",
    "        - P could be a Bernouli Distribution\n",
    "            - $\\theta$ Bernouli with paramater $\\theta$\n",
    "        - P could be a Noramal Distribution\n",
    "            - $\\theta$ coulbe be pair ($\\mu, \\sigma$)\n",
    "            \n",
    "- **${\\rm I\\!P}$ is all about PDF or PMF, $\\theta$ is the paramaters of particular PDF or PMF or Probability Distribution**"
   ]
  },
  {
   "cell_type": "markdown",
   "metadata": {},
   "source": [
    "The Purpose of the Statistical model is once I estimate the parameter, I actually know exactly what distribuition it has."
   ]
  },
  {
   "cell_type": "markdown",
   "metadata": {},
   "source": [
    "### Notation Alert:\n",
    "when we say for any obervation from $X$,\n",
    "We mean, our oberservation are $x_1, x_2, x_3, x_4 ... x_n$ and they are $iid$ and their Distribution is $\\rm I\\!P$"
   ]
  },
  {
   "cell_type": "markdown",
   "metadata": {},
   "source": [
    "## Vocabulary\n",
    "**Well Specified:**\n",
    "for my observations $X$ there exist ${θ∈Θ} $, such that $X$ follows $\\rm I\\!P_{\\theta}$.\n",
    "This $\\theta$ here is called True Paramater.\n",
    "- sometimes the $\\theta$ value may be variable so we may denote $\\theta^*$. Thats supose to be $\\theta hat$ which is always our estimater"
   ]
  },
  {
   "cell_type": "markdown",
   "metadata": {},
   "source": [
    "**Let's write few Statistical models**\n",
    "- if you want to write the statistical model you have to write this $E$ and $\\rm I\\!P_{\\theta}$\n",
    "\n",
    "Now let's wirte the statistical models for people who kiss by bending their head right.\n",
    "if Yes we denote by 1 and no by 0.\n",
    "\n",
    "1. *Let's Start with Bernoulli trails:*\n",
    "    - Here the $E$ sample space is {${0, 1}$} and the probability distribuiton gonna be $Ber(p)$ where p will belongs to 0 or 1\n",
    "    - **$$(({0,1}), \\{{Ber(p)\\}_{p\\in(0,1)}})$$**\n",
    "2. Exponential Model\n",
    "    - $((0,+\\infty), \\{Exp(\\lambda)\\}_{\\lambda >0})$\n",
    "3. Poission Model\n",
    "    - $(\\rm I\\!N, \\{Poss(\\lambda)\\}_{\\lambda >0})$\n",
    "4. Normal Model\n",
    "    - $(\\rm I\\!R,\\{N(\\mu, \\sigma^2)\\}_{\\mu \\in \\rm I\\!R,  \\sigma^2 > 0})$"
   ]
  },
  {
   "cell_type": "code",
   "execution_count": null,
   "metadata": {},
   "outputs": [],
   "source": []
  }
 ],
 "metadata": {
  "kernelspec": {
   "display_name": "Python 3",
   "language": "python",
   "name": "python3"
  },
  "language_info": {
   "codemirror_mode": {
    "name": "ipython",
    "version": 3
   },
   "file_extension": ".py",
   "mimetype": "text/x-python",
   "name": "python",
   "nbconvert_exporter": "python",
   "pygments_lexer": "ipython3",
   "version": "3.7.1"
  }
 },
 "nbformat": 4,
 "nbformat_minor": 2
}
