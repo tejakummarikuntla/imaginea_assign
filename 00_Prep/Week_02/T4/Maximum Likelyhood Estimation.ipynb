{
 "cells": [
  {
   "cell_type": "markdown",
   "metadata": {},
   "source": [
    "# Maximum Likelyhood Estimation"
   ]
  },
  {
   "cell_type": "markdown",
   "metadata": {},
   "source": [
    "When we do maximum likelyhood estimation, where likelyhood is a function we need to maximize a function.\n",
    "That's basically what we need to do.\n",
    "\n",
    "If you get a function you need to know how to maximize this function. Sometimes we have closed-form solutions where you can take the derivative and set it equal to 0 and solve it.\n",
    "\n",
    "But sometimes, you actually need to resort to algorithms to do that and there's an entire industry doing that.\n",
    "\n",
    "**Defination:**\n",
    "Let $(E,(\\rm I\\!P_{\\theta})_{\\theta∈Θ})$\n",
    "be a statistical model associated with a sample\n",
    "of $i.i.d.$ r.v. $X1, . . . , Xn$. Assume that there exists $θ^* ∈ Θ$ such\n",
    "that $X_1 ∼ \\rm I\\!P_\\theta∗ : θ^*$ is the true parameter. \n",
    "This means:\n",
    "$| \\rm I\\!P_{\\hat{\\theta}}(A) − \\rm I\\!P_{\\theta^*}(A) |$ is small for all $A ⊂ E$."
   ]
  },
  {
   "cell_type": "markdown",
   "metadata": {},
   "source": [
    "We have a model on sample space $E$ and some candidate distribuiton $\\rm I\\!P_{\\theta}$. \n",
    "And Our goal is to estimate a **True** $\\theta^*$, the one that generated some data, $x_1$ to $x_n$ in an $iid$ fashion.\n",
    "\n",
    "But, this $\\theta^*$ is really a porxy for us to know that we actually understand the distribution itself. \n",
    "The goal of knowing $\\theta^*$ is so that you can actullay is we can know what $\\rm I\\!P_{\\theta}$ is.\n",
    "\n",
    "And now our goal is to actually come up with the distribution that's close to $\\rm I\\!P_{\\theta^*}$"
   ]
  },
  {
   "cell_type": "markdown",
   "metadata": {},
   "source": [
    "Here,\n",
    "\n",
    "$\\hat{\\theta}$ leads to $\\rm I\\!P_{\\hat{\\theta}}$ (Candidate Distribution) <br></br>\n",
    "$\\theta^*$ leads to $\\rm I\\!P_{\\theta^*}$ the *true* $\\theta^*$ (**True Distribution**) According to which our data was Drawn\n",
    "\n",
    "Now, what we want is that If  we compute, Probability of $ \\rm I\\!P_{\\hat{\\theta}}$ under some interval $([a,b])$ it should be pertty close to Probability $\\rm I\\!P_{\\theta^*}$ of the same interval $([a,b])$\n",
    "$$ \\rm I\\!P_{\\hat{\\theta}}([a,b]) \\tilde  \\rm I\\!P_{\\theta^*}([a,b]) $$\n",
    "\n",
    "**Statistician’s goal:** given $X1, . . . , Xn,$ find an estimator $\\hat{\\theta}$ = $\\hat{\\theta}(X1, . . . , Xn)$ such that $ \\rm I\\!P_{\\hat{\\theta}}$ is close to $\\rm I\\!P_{\\theta^*}$ for the true\n",
    "parameter $θ^*$.\n",
    "\n",
    "So, In particular, If we want those to be close we should have the absolute value of their difference to be close to 0\n",
    "$$| {\\rm I\\!P_{\\hat{\\theta}}}(A) − \\rm I\\!P_{\\theta^*}(A) |$$ is small for all $A ⊂ E$\n",
    "\n",
    "### Total Variation Distance\n",
    "The toatal variation between two probabilities measures:\n",
    "$$TV(\\rm I\\!P_{\\hat{\\theta}}, \\rm I\\!P_{\\theta^*}) = \\underset{A ⊂ E}{max} | {\\rm I\\!P_{\\hat{\\theta}}}(A) − \\rm I\\!P_{\\theta^*}(A) |$$\n",
    "\n",
    "So, if the total variation between theta and theta prime is small, it means that for all possible $A's$ that you give, then $\\rm I\\!P_{\\hat{\\theta}}(A)$ is going to be close to $\\rm I\\!P_{\\theta^*}(A)$"
   ]
  },
  {
   "cell_type": "markdown",
   "metadata": {},
   "source": []
  },
  {
   "cell_type": "code",
   "execution_count": null,
   "metadata": {},
   "outputs": [],
   "source": []
  }
 ],
 "metadata": {
  "kernelspec": {
   "display_name": "Python 3",
   "language": "python",
   "name": "python3"
  },
  "language_info": {
   "codemirror_mode": {
    "name": "ipython",
    "version": 3
   },
   "file_extension": ".py",
   "mimetype": "text/x-python",
   "name": "python",
   "nbconvert_exporter": "python",
   "pygments_lexer": "ipython3",
   "version": "3.7.1"
  }
 },
 "nbformat": 4,
 "nbformat_minor": 2
}
