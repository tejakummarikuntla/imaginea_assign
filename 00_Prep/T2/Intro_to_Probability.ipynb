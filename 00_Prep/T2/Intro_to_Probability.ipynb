{
 "cells": [
  {
   "cell_type": "markdown",
   "metadata": {},
   "source": [
    "# Probability"
   ]
  },
  {
   "cell_type": "code",
   "execution_count": 2,
   "metadata": {},
   "outputs": [],
   "source": [
    "import numpy as np\n",
    "import pandas as pd\n",
    "import matplotlib.pyplot as plt\n",
    "import seaborn as sns"
   ]
  },
  {
   "cell_type": "markdown",
   "metadata": {},
   "source": [
    "## Permutations\n",
    "A Permutation of a set of objects is an arrangement of the objects in a certain order\n",
    "### Total Permutation of set N\n",
    "- The possible permutations of letters a,b and c is:\n",
    "abc, acb, bac, bca, cab, cba\n",
    "- We can calculate the number of possible permuations as n! [n factorial]\n",
    "$$n!$$\n",
    "- Example: abc = 3 items.\n",
    "n! = 3! = 3x2x1 = 6\n",
    "### Permutations without repetitions\n",
    "- you can also take a subset of items in a permutation\n",
    "- The number of permutations of a set of n objects taken r at a time is given by the following formula:\n",
    "npr = n!/(n-r)!\n",
    "### Permutations with repetitions\n",
    "- The number of arrangements of n objects taken r at a time, with repetitions given by\n",
    "$$ n^r $$\n"
   ]
  },
  {
   "cell_type": "code",
   "execution_count": 12,
   "metadata": {},
   "outputs": [
    {
     "name": "stdout",
     "output_type": "stream",
     "text": [
      "Input data = [0 1 2 3]\n",
      "Possible permutation (n^r)=  16\n",
      "0 0 \n",
      "0 1 \n",
      "0 2 \n",
      "0 3 \n",
      "1 0 \n",
      "1 1 \n",
      "1 2 \n",
      "1 3 \n",
      "2 0 \n",
      "2 1 \n",
      "2 2 \n",
      "2 3 \n",
      "3 0 \n",
      "3 1 \n",
      "3 2 \n",
      "3 3 \n"
     ]
    }
   ],
   "source": [
    "# Number of items in our input set\n",
    "n = 4\n",
    "\n",
    "# Number of iterm to select at one time\n",
    "r = 2 \n",
    "\n",
    "# Data\n",
    "data = np.arange(n)\n",
    "\n",
    "# Permutations with Replacement\n",
    "print(\"Input data = {}\".format(data))\n",
    "print(\"Possible permutation (n^r)= \", n**r)\n",
    "\n",
    "# compute and display actual permutations (with replacement)\n",
    "from itertools import product\n",
    "for cm in product(data, repeat=r):\n",
    "    for c in cm:\n",
    "        print(f'{c} ', end='')\n",
    "    print()"
   ]
  },
  {
   "cell_type": "code",
   "execution_count": 17,
   "metadata": {},
   "outputs": [
    {
     "name": "stdout",
     "output_type": "stream",
     "text": [
      "Input data:  [0 1 2 3]\n",
      "possible Permutations =  12.0\n",
      "0 1 \n",
      "0 2 \n",
      "0 3 \n",
      "1 0 \n",
      "1 2 \n",
      "1 3 \n",
      "2 0 \n",
      "2 1 \n",
      "2 3 \n",
      "3 0 \n",
      "3 1 \n",
      "3 2 \n"
     ]
    }
   ],
   "source": [
    "#Permutations without repetitions\n",
    "from math import factorial\n",
    "from itertools import permutations\n",
    "\n",
    "print(\"Input data: \",data)\n",
    "n_fact = factorial(n)\n",
    "n_r_fact = factorial(n-r)\n",
    "print(\"possible Permutations = \",n_fact/n_r_fact)\n",
    "\n",
    "# Displaying actual permutations\n",
    "for pm in permutations(data, r):\n",
    "    for p in pm:\n",
    "        print(f'{p} ', end='')\n",
    "    print()"
   ]
  },
  {
   "cell_type": "markdown",
   "metadata": {},
   "source": [
    "## Combinations\n",
    "- Unordered arrangements of objects are called combinations.\n",
    "\n",
    "ex: A group of people selected for a team are the same group, no matter the order\n",
    "\n",
    "ex: A pizza that is half tomato, half spinach is the same as one half spinach, half tomato.\n",
    "### Combinations without replacemnts\n",
    "- The number of combinations of a set of n objects taken r at a time is given by:\n",
    "ncr = n!/r!(n-r)!\n",
    "\n",
    "### Combinations with Replacements:\n",
    "- ncr = r+n-1cr = (r+n-1)!/r!(n-1)!"
   ]
  },
  {
   "cell_type": "code",
   "execution_count": 27,
   "metadata": {},
   "outputs": [
    {
     "name": "stdout",
     "output_type": "stream",
     "text": [
      "Input data:  [0 1 2 3]\n",
      "Possible Combinations:  6.0\n",
      "0 1 \n",
      "0 2 \n",
      "0 3 \n",
      "1 2 \n",
      "1 3 \n",
      "2 3 \n"
     ]
    }
   ],
   "source": [
    "# Combinations without Replacements:\n",
    "\n",
    "print(\"Input data: \", data)\n",
    "\n",
    "n_fact = factorial(n)\n",
    "n_r_fact = factorial(n-r)\n",
    "r_fact = factorial(r)\n",
    "\n",
    "print(\"Possible Combinations: \", n_fact/(n_r_fact * r_fact))\n",
    "\n",
    "from itertools import combinations\n",
    "\n",
    "# Combinations\n",
    "for cm in combinations(data, r):\n",
    "    for c in cm:\n",
    "        print(f'{c} ', end='')\n",
    "    print()"
   ]
  },
  {
   "cell_type": "code",
   "execution_count": 29,
   "metadata": {},
   "outputs": [
    {
     "name": "stdout",
     "output_type": "stream",
     "text": [
      "Input data:  [0 1 2 3]\n",
      "Possible Combinations:  0.5\n",
      "0 0 \n",
      "0 1 \n",
      "0 2 \n",
      "0 3 \n",
      "1 1 \n",
      "1 2 \n",
      "1 3 \n",
      "2 2 \n",
      "2 3 \n",
      "3 3 \n"
     ]
    }
   ],
   "source": [
    "# Combinations with Replacements:\n",
    "\n",
    "print(\"Input data: \", data)\n",
    "\n",
    "n_fact = factorial(n)\n",
    "n_r_1_fact = factorial(r+1-1)\n",
    "r_fact = factorial(r)\n",
    "\n",
    "print(\"Possible Combinations: \", n_r_1_fact/(n_r_fact * r_fact))\n",
    "\n",
    "from itertools import combinations_with_replacement\n",
    "\n",
    "# Combinations\n",
    "for cm in combinations_with_replacement(data, r):\n",
    "    for c in cm:\n",
    "        print(f'{c} ', end='')\n",
    "    print()"
   ]
  },
  {
   "cell_type": "markdown",
   "metadata": {},
   "source": [
    "## Probability\n",
    "\n",
    "### Flipping a coin"
   ]
  },
  {
   "cell_type": "code",
   "execution_count": 35,
   "metadata": {},
   "outputs": [
    {
     "name": "stdout",
     "output_type": "stream",
     "text": [
      "Flips:  H T H H H H T T T H T H T T T T T H H H T H H T H\n",
      "number of heads:  13\n",
      "P(H) = 0.52( Number of Heads/ Toatal Flips)\n"
     ]
    }
   ],
   "source": [
    "# Probability of flipping heads\n",
    "ph = 0.5\n",
    "\n",
    "# Number of coins flips to simulate\n",
    "num_flips = 25\n",
    "\n",
    "# simulate coin flips\n",
    "def flip_coin(N, p=0.5):\n",
    "    prob = [p, (1-p)]\n",
    "    return np.random.choice(['H','T'], size=N, p=prob)\n",
    "\n",
    "# Accumulate flips\n",
    "flips = flip_coin(num_flips, ph)\n",
    "\n",
    "# count heads\n",
    "num_heads = np.sum(flips == 'H')\n",
    "\n",
    "# Results\n",
    "print(\"Flips: \",\" \".join(flips))\n",
    "print(\"number of heads: \",num_heads)\n",
    "print(f'P(H) = {num_heads/num_flips}( Number of Heads/ Toatal Flips)')"
   ]
  },
  {
   "cell_type": "code",
   "execution_count": null,
   "metadata": {},
   "outputs": [],
   "source": []
  }
 ],
 "metadata": {
  "kernelspec": {
   "display_name": "Python 3",
   "language": "python",
   "name": "python3"
  },
  "language_info": {
   "codemirror_mode": {
    "name": "ipython",
    "version": 3
   },
   "file_extension": ".py",
   "mimetype": "text/x-python",
   "name": "python",
   "nbconvert_exporter": "python",
   "pygments_lexer": "ipython3",
   "version": "3.7.3"
  }
 },
 "nbformat": 4,
 "nbformat_minor": 2
}
