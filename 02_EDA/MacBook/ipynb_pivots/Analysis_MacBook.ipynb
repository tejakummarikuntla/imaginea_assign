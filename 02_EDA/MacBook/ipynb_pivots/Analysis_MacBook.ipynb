{
 "cells": [
  {
   "cell_type": "code",
   "execution_count": 4,
   "metadata": {},
   "outputs": [],
   "source": [
    "import pandas as pd\n",
    "import seaborn as sns\n",
    "import matplotlib.pyplot as plt\n",
    "import numpy as np\n",
    "import warnings\n",
    "warnings.filterwarnings(\"ignore\")\n",
    "%matplotlib inline\n",
    "\n",
    "train_file = \"./adult-training.csv\"\n",
    "#test_file = \"/home/tejakummarikuntla/Dev/EDA/Salary_Prediction/us-census-data/adult-test.csv\"\n",
    "\n",
    "columns = ['Age','Workclass','fnlgwt','Education','Education_num','Marital_Status',\n",
    "           'Occupation','Relationship','Race','Sex','Capital_Gain','Capital_Loss',\n",
    "           'Hours/Week','Native_country','Income']"
   ]
  },
  {
   "cell_type": "code",
   "execution_count": 5,
   "metadata": {},
   "outputs": [
    {
     "data": {
      "text/html": [
       "<div>\n",
       "<style scoped>\n",
       "    .dataframe tbody tr th:only-of-type {\n",
       "        vertical-align: middle;\n",
       "    }\n",
       "\n",
       "    .dataframe tbody tr th {\n",
       "        vertical-align: top;\n",
       "    }\n",
       "\n",
       "    .dataframe thead th {\n",
       "        text-align: right;\n",
       "    }\n",
       "</style>\n",
       "<table border=\"1\" class=\"dataframe\">\n",
       "  <thead>\n",
       "    <tr style=\"text-align: right;\">\n",
       "      <th></th>\n",
       "      <th>Age</th>\n",
       "      <th>Workclass</th>\n",
       "      <th>fnlgwt</th>\n",
       "      <th>Education</th>\n",
       "      <th>Education_num</th>\n",
       "      <th>Marital_Status</th>\n",
       "      <th>Occupation</th>\n",
       "      <th>Relationship</th>\n",
       "      <th>Race</th>\n",
       "      <th>Sex</th>\n",
       "      <th>Capital_Gain</th>\n",
       "      <th>Capital_Loss</th>\n",
       "      <th>Hours/Week</th>\n",
       "      <th>Native_country</th>\n",
       "      <th>Income</th>\n",
       "    </tr>\n",
       "  </thead>\n",
       "  <tbody>\n",
       "    <tr>\n",
       "      <th>0</th>\n",
       "      <td>39</td>\n",
       "      <td>State-gov</td>\n",
       "      <td>77516</td>\n",
       "      <td>Bachelors</td>\n",
       "      <td>13</td>\n",
       "      <td>Never-married</td>\n",
       "      <td>Adm-clerical</td>\n",
       "      <td>Not-in-family</td>\n",
       "      <td>White</td>\n",
       "      <td>Male</td>\n",
       "      <td>2174</td>\n",
       "      <td>0</td>\n",
       "      <td>40</td>\n",
       "      <td>United-States</td>\n",
       "      <td>&lt;=50K</td>\n",
       "    </tr>\n",
       "    <tr>\n",
       "      <th>1</th>\n",
       "      <td>50</td>\n",
       "      <td>Self-emp-not-inc</td>\n",
       "      <td>83311</td>\n",
       "      <td>Bachelors</td>\n",
       "      <td>13</td>\n",
       "      <td>Married-civ-spouse</td>\n",
       "      <td>Exec-managerial</td>\n",
       "      <td>Husband</td>\n",
       "      <td>White</td>\n",
       "      <td>Male</td>\n",
       "      <td>0</td>\n",
       "      <td>0</td>\n",
       "      <td>13</td>\n",
       "      <td>United-States</td>\n",
       "      <td>&lt;=50K</td>\n",
       "    </tr>\n",
       "    <tr>\n",
       "      <th>2</th>\n",
       "      <td>38</td>\n",
       "      <td>Private</td>\n",
       "      <td>215646</td>\n",
       "      <td>HS-grad</td>\n",
       "      <td>9</td>\n",
       "      <td>Divorced</td>\n",
       "      <td>Handlers-cleaners</td>\n",
       "      <td>Not-in-family</td>\n",
       "      <td>White</td>\n",
       "      <td>Male</td>\n",
       "      <td>0</td>\n",
       "      <td>0</td>\n",
       "      <td>40</td>\n",
       "      <td>United-States</td>\n",
       "      <td>&lt;=50K</td>\n",
       "    </tr>\n",
       "    <tr>\n",
       "      <th>3</th>\n",
       "      <td>53</td>\n",
       "      <td>Private</td>\n",
       "      <td>234721</td>\n",
       "      <td>11th</td>\n",
       "      <td>7</td>\n",
       "      <td>Married-civ-spouse</td>\n",
       "      <td>Handlers-cleaners</td>\n",
       "      <td>Husband</td>\n",
       "      <td>Black</td>\n",
       "      <td>Male</td>\n",
       "      <td>0</td>\n",
       "      <td>0</td>\n",
       "      <td>40</td>\n",
       "      <td>United-States</td>\n",
       "      <td>&lt;=50K</td>\n",
       "    </tr>\n",
       "    <tr>\n",
       "      <th>4</th>\n",
       "      <td>28</td>\n",
       "      <td>Private</td>\n",
       "      <td>338409</td>\n",
       "      <td>Bachelors</td>\n",
       "      <td>13</td>\n",
       "      <td>Married-civ-spouse</td>\n",
       "      <td>Prof-specialty</td>\n",
       "      <td>Wife</td>\n",
       "      <td>Black</td>\n",
       "      <td>Female</td>\n",
       "      <td>0</td>\n",
       "      <td>0</td>\n",
       "      <td>40</td>\n",
       "      <td>Cuba</td>\n",
       "      <td>&lt;=50K</td>\n",
       "    </tr>\n",
       "  </tbody>\n",
       "</table>\n",
       "</div>"
      ],
      "text/plain": [
       "   Age          Workclass  fnlgwt   Education  Education_num  \\\n",
       "0   39          State-gov   77516   Bachelors             13   \n",
       "1   50   Self-emp-not-inc   83311   Bachelors             13   \n",
       "2   38            Private  215646     HS-grad              9   \n",
       "3   53            Private  234721        11th              7   \n",
       "4   28            Private  338409   Bachelors             13   \n",
       "\n",
       "        Marital_Status          Occupation    Relationship    Race      Sex  \\\n",
       "0        Never-married        Adm-clerical   Not-in-family   White     Male   \n",
       "1   Married-civ-spouse     Exec-managerial         Husband   White     Male   \n",
       "2             Divorced   Handlers-cleaners   Not-in-family   White     Male   \n",
       "3   Married-civ-spouse   Handlers-cleaners         Husband   Black     Male   \n",
       "4   Married-civ-spouse      Prof-specialty            Wife   Black   Female   \n",
       "\n",
       "   Capital_Gain  Capital_Loss  Hours/Week  Native_country  Income  \n",
       "0          2174             0          40   United-States   <=50K  \n",
       "1             0             0          13   United-States   <=50K  \n",
       "2             0             0          40   United-States   <=50K  \n",
       "3             0             0          40   United-States   <=50K  \n",
       "4             0             0          40            Cuba   <=50K  "
      ]
     },
     "execution_count": 5,
     "metadata": {},
     "output_type": "execute_result"
    }
   ],
   "source": [
    "train = pd.read_csv(train_file, names=columns)\n",
    "train.head()"
   ]
  },
  {
   "cell_type": "markdown",
   "metadata": {},
   "source": [
    "## People from which Age group are having majority >50K?"
   ]
  },
  {
   "cell_type": "code",
   "execution_count": 21,
   "metadata": {},
   "outputs": [
    {
     "name": "stdout",
     "output_type": "stream",
     "text": [
      "     Income\n",
      "Age        \n",
      "30      171\n",
      "29      134\n",
      "28      119\n",
      "27       81\n",
      "26       63\n",
      "25       53\n",
      "24       31\n",
      "22       13\n",
      "23       12\n",
      "21        3\n",
      "19        2\n"
     ]
    },
    {
     "data": {
      "text/plain": [
       "<matplotlib.axes._subplots.AxesSubplot at 0x1a27ab7ef0>"
      ]
     },
     "execution_count": 21,
     "metadata": {},
     "output_type": "execute_result"
    },
    {
     "data": {
      "image/png": "[encoded data removed]",
      "text/plain": [
       "<Figure size 432x288 with 1 Axes>"
      ]
     },
     "metadata": {
      "needs_background": "light"
     },
     "output_type": "display_data"
    }
   ],
   "source": [
    "ag_30 = train[(train.Income == ' >50K') & (train.Age <= 30)].pivot_table(values='Income',\n",
    "                                                                 index='Age', \n",
    "                                                                 aggfunc='count').sort_values(by='Income', ascending=False)\n",
    "print(ag_30)\n",
    "ag_30.plot(kind='bar')"
   ]
  },
  {
   "cell_type": "code",
   "execution_count": 22,
   "metadata": {},
   "outputs": [
    {
     "name": "stdout",
     "output_type": "stream",
     "text": [
      "     Income\n",
      "Age        \n",
      "46      292\n",
      "37      292\n",
      "45      288\n",
      "47      288\n",
      "38      282\n",
      "44      281\n",
      "41      279\n",
      "39      278\n",
      "43      273\n",
      "42      270\n",
      "40      268\n",
      "36      263\n",
      "50      261\n",
      "34      243\n",
      "51      242\n",
      "35      217\n",
      "48      217\n",
      "49      206\n",
      "52      192\n",
      "33      191\n",
      "32      189\n",
      "53      189\n",
      "31      183\n",
      "54      173\n",
      "30      171\n",
      "55      146\n",
      "59      133\n",
      "57      131\n",
      "58      122\n",
      "56      118\n",
      "60      101\n"
     ]
    },
    {
     "data": {
      "text/plain": [
       "<matplotlib.axes._subplots.AxesSubplot at 0x1a27087668>"
      ]
     },
     "execution_count": 22,
     "metadata": {},
     "output_type": "execute_result"
    },
    {
     "data": {
      "image/png": "[encoded data removed]",
      "text/plain": [
       "<Figure size 432x288 with 1 Axes>"
      ]
     },
     "metadata": {
      "needs_background": "light"
     },
     "output_type": "display_data"
    }
   ],
   "source": [
    "ag_30_60 = train[(train.Income == ' >50K') & (train.Age >= 30) & (train.Age <= 60)].pivot_table(values='Income',\n",
    "                                                                                     index='Age',\n",
    "                                                                                     aggfunc='count').sort_values(by='Income', ascending=False)\n",
    "print(ag_30_60)\n",
    "ag_30_60.plot(kind='bar')"
   ]
  },
  {
   "cell_type": "code",
   "execution_count": 23,
   "metadata": {},
   "outputs": [
    {
     "name": "stdout",
     "output_type": "stream",
     "text": [
      "     Income\n",
      "Age        \n",
      "60      101\n",
      "61       96\n",
      "62       67\n",
      "63       59\n",
      "64       53\n",
      "65       43\n",
      "67       37\n",
      "66       35\n",
      "68       27\n",
      "69       21\n",
      "70       19\n",
      "71       16\n",
      "74       12\n",
      "73       10\n",
      "79        9\n",
      "72        9\n",
      "90        8\n",
      "75        7\n",
      "76        5\n",
      "77        5\n",
      "78        5\n",
      "81        3\n",
      "80        2\n",
      "83        2\n",
      "84        1\n"
     ]
    },
    {
     "data": {
      "text/plain": [
       "<matplotlib.axes._subplots.AxesSubplot at 0x1a27b59240>"
      ]
     },
     "execution_count": 23,
     "metadata": {},
     "output_type": "execute_result"
    },
    {
     "data": {
      "image/png": "[encoded data removed]",
      "text/plain": [
       "<Figure size 432x288 with 1 Axes>"
      ]
     },
     "metadata": {
      "needs_background": "light"
     },
     "output_type": "display_data"
    }
   ],
   "source": [
    "ag_60_90 = train[(train.Income == ' >50K') & (train.Age >= 60) & (train.Age <= 90)].pivot_table(values='Income', \n",
    "                                                                                     index='Age', \n",
    "                                                                                     aggfunc='count').sort_values(by='Income', ascending=False)\n",
    "print(ag_60_90)\n",
    "ag_60_90.plot(kind='bar')"
   ]
  },
  {
   "cell_type": "markdown",
   "metadata": {},
   "source": [
    "### Report: Peple from age group `[30-60]` are more in #>50K Income"
   ]
  },
  {
   "cell_type": "markdown",
   "metadata": {},
   "source": [
    "## People in which Education Field are having more #>50K Income?"
   ]
  },
  {
   "cell_type": "code",
   "execution_count": 26,
   "metadata": {},
   "outputs": [
    {
     "name": "stdout",
     "output_type": "stream",
     "text": [
      "               Income\n",
      "Education            \n",
      " Bachelors       2221\n",
      " HS-grad         1675\n",
      " Some-college    1387\n",
      " Masters          959\n",
      " Prof-school      423\n",
      " Assoc-voc        361\n",
      " Doctorate        306\n",
      " Assoc-acdm       265\n",
      " 10th              62\n",
      " 11th              60\n",
      " 7th-8th           40\n",
      " 12th              33\n",
      " 9th               27\n",
      " 5th-6th           16\n",
      " 1st-4th            6\n"
     ]
    },
    {
     "data": {
      "text/plain": [
       "<matplotlib.axes._subplots.AxesSubplot at 0x1a27041668>"
      ]
     },
     "execution_count": 26,
     "metadata": {},
     "output_type": "execute_result"
    },
    {
     "data": {
      "image/png": "[encoded data removed]",
      "text/plain": [
       "<Figure size 432x288 with 1 Axes>"
      ]
     },
     "metadata": {
      "needs_background": "light"
     },
     "output_type": "display_data"
    }
   ],
   "source": [
    "gt_50k_edu = train[(train.Income == ' >50K')].pivot_table(values='Income', index='Education',aggfunc='count').sort_values(by='Income', ascending=False)\n",
    "print(gt_50k_edu)\n",
    "gt_50k_edu.plot(kind='bar')"
   ]
  },
  {
   "cell_type": "code",
   "execution_count": 30,
   "metadata": {},
   "outputs": [
    {
     "name": "stdout",
     "output_type": "stream",
     "text": [
      "               Income\n",
      "Education            \n",
      " Bachelors       2221\n",
      " HS-grad         1675\n",
      " Some-college    1387\n",
      " Masters          959\n",
      " Prof-school      423\n",
      " Assoc-voc        361\n",
      " Doctorate        306\n",
      " Assoc-acdm       265\n",
      " 10th              62\n",
      " 11th              60\n",
      " 7th-8th           40\n",
      " 12th              33\n",
      " 9th               27\n",
      " 5th-6th           16\n",
      " 1st-4th            6\n"
     ]
    },
    {
     "data": {
      "text/plain": [
       "<matplotlib.axes._subplots.AxesSubplot at 0x1a2818e780>"
      ]
     },
     "execution_count": 30,
     "metadata": {},
     "output_type": "execute_result"
    },
    {
     "data": {
      "image/png": "[encoded data removed]",
      "text/plain": [
       "<Figure size 432x288 with 1 Axes>"
      ]
     },
     "metadata": {
      "needs_background": "light"
     },
     "output_type": "display_data"
    }
   ],
   "source": [
    "lt_50k_edu = train[(train.Income == ' >50K')].pivot_table(values='Income', index='Education',aggfunc='count').sort_values(by='Income', ascending=False)\n",
    "print(lt_50k_edu)\n",
    "lt_50k_edu.plot(kind='bar')"
   ]
  },
  {
   "cell_type": "markdown",
   "metadata": {},
   "source": [
    "### Report: People from Bachlors are more in # >50K and <=50K Income"
   ]
  },
  {
   "cell_type": "markdown",
   "metadata": {},
   "source": [
    "## Men in which working class earns more #>50K and <=50K"
   ]
  },
  {
   "cell_type": "code",
   "execution_count": 29,
   "metadata": {},
   "outputs": [
    {
     "name": "stdout",
     "output_type": "stream",
     "text": [
      "                   Income\n",
      "Workclass                \n",
      " Private             4237\n",
      " Self-emp-not-inc     642\n",
      " Self-emp-inc         581\n",
      " Local-gov            463\n",
      " Federal-gov          315\n",
      " State-gov            285\n",
      " ?                    139\n"
     ]
    },
    {
     "data": {
      "text/plain": [
       "<matplotlib.axes._subplots.AxesSubplot at 0x1a281aa630>"
      ]
     },
     "execution_count": 29,
     "metadata": {},
     "output_type": "execute_result"
    },
    {
     "data": {
      "image/png": "[encoded data removed]",
      "text/plain": [
       "<Figure size 432x288 with 1 Axes>"
      ]
     },
     "metadata": {
      "needs_background": "light"
     },
     "output_type": "display_data"
    }
   ],
   "source": [
    "# Men with Income >50K [Workclass]\n",
    "wrk_men = train[(train.Income == ' >50K') & (train.Sex == ' Male')].pivot_table(values='Income', index='Workclass',aggfunc='count').sort_values(by='Income', ascending=False)\n",
    "print(wrk_men)\n",
    "wrk_men.plot(kind='bar')"
   ]
  },
  {
   "cell_type": "code",
   "execution_count": 31,
   "metadata": {},
   "outputs": [
    {
     "name": "stdout",
     "output_type": "stream",
     "text": [
      "                   Income\n",
      "Workclass                \n",
      " Private            10707\n",
      " Self-emp-not-inc    1500\n",
      " ?                    858\n",
      " Local-gov            795\n",
      " State-gov            524\n",
      " Self-emp-inc         400\n",
      " Federal-gov          330\n",
      " Without-pay            9\n",
      " Never-worked           5\n"
     ]
    },
    {
     "data": {
      "text/plain": [
       "<matplotlib.axes._subplots.AxesSubplot at 0x1a284115c0>"
      ]
     },
     "execution_count": 31,
     "metadata": {},
     "output_type": "execute_result"
    },
    {
     "data": {
      "image/png": "[encoded data removed]",
      "text/plain": [
       "<Figure size 432x288 with 1 Axes>"
      ]
     },
     "metadata": {
      "needs_background": "light"
     },
     "output_type": "display_data"
    }
   ],
   "source": [
    "# Men with Income <=50K [Workclass]\n",
    "wrk_men_lt = train[(train.Income == ' <=50K') & (train.Sex == ' Male')].pivot_table(values='Income', index='Workclass',aggfunc='count').sort_values(by='Income', ascending=False)\n",
    "print(wrk_men_lt)\n",
    "wrk_men_lt.plot(kind='bar')"
   ]
  },
  {
   "cell_type": "markdown",
   "metadata": {},
   "source": [
    "### Report: Men in Private working class has more #>50K and <=50K"
   ]
  },
  {
   "cell_type": "markdown",
   "metadata": {},
   "source": [
    "## Women in which working class earns more #>50K and <=50K"
   ]
  },
  {
   "cell_type": "code",
   "execution_count": null,
   "metadata": {},
   "outputs": [],
   "source": []
  }
 ],
 "metadata": {
  "kernelspec": {
   "display_name": "Python 3",
   "language": "python",
   "name": "python3"
  },
  "language_info": {
   "codemirror_mode": {
    "name": "ipython",
    "version": 3
   },
   "file_extension": ".py",
   "mimetype": "text/x-python",
   "name": "python",
   "nbconvert_exporter": "python",
   "pygments_lexer": "ipython3",
   "version": "3.7.1"
  }
 },
 "nbformat": 4,
 "nbformat_minor": 2
}
