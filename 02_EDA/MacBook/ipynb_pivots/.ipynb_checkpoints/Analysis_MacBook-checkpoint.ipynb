{
 "cells": [
  {
   "cell_type": "code",
   "execution_count": 2,
   "metadata": {},
   "outputs": [],
   "source": [
    "import pandas as pd\n",
    "import seaborn as sns\n",
    "import matplotlib.pyplot as plt\n",
    "import numpy as np\n",
    "import warnings\n",
    "warnings.filterwarnings(\"ignore\")\n",
    "%matplotlib inline\n",
    "\n",
    "train_file = \"./adult-training.csv\"\n",
    "#test_file = \"/home/tejakummarikuntla/Dev/EDA/Salary_Prediction/us-census-data/adult-test.csv\"\n",
    "\n",
    "columns = ['Age','Workclass','fnlgwt','Education','Education_num','Marital_Status',\n",
    "           'Occupation','Relationship','Race','Sex','Capital_Gain','Capital_Loss',\n",
    "           'Hours/Week','Native_country','Income']"
   ]
  },
  {
   "cell_type": "code",
   "execution_count": 3,
   "metadata": {},
   "outputs": [
    {
     "data": {
      "text/html": [
       "<div>\n",
       "<style scoped>\n",
       "    .dataframe tbody tr th:only-of-type {\n",
       "        vertical-align: middle;\n",
       "    }\n",
       "\n",
       "    .dataframe tbody tr th {\n",
       "        vertical-align: top;\n",
       "    }\n",
       "\n",
       "    .dataframe thead th {\n",
       "        text-align: right;\n",
       "    }\n",
       "</style>\n",
       "<table border=\"1\" class=\"dataframe\">\n",
       "  <thead>\n",
       "    <tr style=\"text-align: right;\">\n",
       "      <th></th>\n",
       "      <th>Age</th>\n",
       "      <th>Workclass</th>\n",
       "      <th>fnlgwt</th>\n",
       "      <th>Education</th>\n",
       "      <th>Education_num</th>\n",
       "      <th>Marital_Status</th>\n",
       "      <th>Occupation</th>\n",
       "      <th>Relationship</th>\n",
       "      <th>Race</th>\n",
       "      <th>Sex</th>\n",
       "      <th>Capital_Gain</th>\n",
       "      <th>Capital_Loss</th>\n",
       "      <th>Hours/Week</th>\n",
       "      <th>Native_country</th>\n",
       "      <th>Income</th>\n",
       "    </tr>\n",
       "  </thead>\n",
       "  <tbody>\n",
       "    <tr>\n",
       "      <th>0</th>\n",
       "      <td>39</td>\n",
       "      <td>State-gov</td>\n",
       "      <td>77516</td>\n",
       "      <td>Bachelors</td>\n",
       "      <td>13</td>\n",
       "      <td>Never-married</td>\n",
       "      <td>Adm-clerical</td>\n",
       "      <td>Not-in-family</td>\n",
       "      <td>White</td>\n",
       "      <td>Male</td>\n",
       "      <td>2174</td>\n",
       "      <td>0</td>\n",
       "      <td>40</td>\n",
       "      <td>United-States</td>\n",
       "      <td>&lt;=50K</td>\n",
       "    </tr>\n",
       "    <tr>\n",
       "      <th>1</th>\n",
       "      <td>50</td>\n",
       "      <td>Self-emp-not-inc</td>\n",
       "      <td>83311</td>\n",
       "      <td>Bachelors</td>\n",
       "      <td>13</td>\n",
       "      <td>Married-civ-spouse</td>\n",
       "      <td>Exec-managerial</td>\n",
       "      <td>Husband</td>\n",
       "      <td>White</td>\n",
       "      <td>Male</td>\n",
       "      <td>0</td>\n",
       "      <td>0</td>\n",
       "      <td>13</td>\n",
       "      <td>United-States</td>\n",
       "      <td>&lt;=50K</td>\n",
       "    </tr>\n",
       "    <tr>\n",
       "      <th>2</th>\n",
       "      <td>38</td>\n",
       "      <td>Private</td>\n",
       "      <td>215646</td>\n",
       "      <td>HS-grad</td>\n",
       "      <td>9</td>\n",
       "      <td>Divorced</td>\n",
       "      <td>Handlers-cleaners</td>\n",
       "      <td>Not-in-family</td>\n",
       "      <td>White</td>\n",
       "      <td>Male</td>\n",
       "      <td>0</td>\n",
       "      <td>0</td>\n",
       "      <td>40</td>\n",
       "      <td>United-States</td>\n",
       "      <td>&lt;=50K</td>\n",
       "    </tr>\n",
       "    <tr>\n",
       "      <th>3</th>\n",
       "      <td>53</td>\n",
       "      <td>Private</td>\n",
       "      <td>234721</td>\n",
       "      <td>11th</td>\n",
       "      <td>7</td>\n",
       "      <td>Married-civ-spouse</td>\n",
       "      <td>Handlers-cleaners</td>\n",
       "      <td>Husband</td>\n",
       "      <td>Black</td>\n",
       "      <td>Male</td>\n",
       "      <td>0</td>\n",
       "      <td>0</td>\n",
       "      <td>40</td>\n",
       "      <td>United-States</td>\n",
       "      <td>&lt;=50K</td>\n",
       "    </tr>\n",
       "    <tr>\n",
       "      <th>4</th>\n",
       "      <td>28</td>\n",
       "      <td>Private</td>\n",
       "      <td>338409</td>\n",
       "      <td>Bachelors</td>\n",
       "      <td>13</td>\n",
       "      <td>Married-civ-spouse</td>\n",
       "      <td>Prof-specialty</td>\n",
       "      <td>Wife</td>\n",
       "      <td>Black</td>\n",
       "      <td>Female</td>\n",
       "      <td>0</td>\n",
       "      <td>0</td>\n",
       "      <td>40</td>\n",
       "      <td>Cuba</td>\n",
       "      <td>&lt;=50K</td>\n",
       "    </tr>\n",
       "  </tbody>\n",
       "</table>\n",
       "</div>"
      ],
      "text/plain": [
       "   Age          Workclass  fnlgwt   Education  Education_num  \\\n",
       "0   39          State-gov   77516   Bachelors             13   \n",
       "1   50   Self-emp-not-inc   83311   Bachelors             13   \n",
       "2   38            Private  215646     HS-grad              9   \n",
       "3   53            Private  234721        11th              7   \n",
       "4   28            Private  338409   Bachelors             13   \n",
       "\n",
       "        Marital_Status          Occupation    Relationship    Race      Sex  \\\n",
       "0        Never-married        Adm-clerical   Not-in-family   White     Male   \n",
       "1   Married-civ-spouse     Exec-managerial         Husband   White     Male   \n",
       "2             Divorced   Handlers-cleaners   Not-in-family   White     Male   \n",
       "3   Married-civ-spouse   Handlers-cleaners         Husband   Black     Male   \n",
       "4   Married-civ-spouse      Prof-specialty            Wife   Black   Female   \n",
       "\n",
       "   Capital_Gain  Capital_Loss  Hours/Week  Native_country  Income  \n",
       "0          2174             0          40   United-States   <=50K  \n",
       "1             0             0          13   United-States   <=50K  \n",
       "2             0             0          40   United-States   <=50K  \n",
       "3             0             0          40   United-States   <=50K  \n",
       "4             0             0          40            Cuba   <=50K  "
      ]
     },
     "execution_count": 3,
     "metadata": {},
     "output_type": "execute_result"
    }
   ],
   "source": [
    "train = pd.read_csv(train_file, names=columns)\n",
    "train.head()"
   ]
  },
  {
   "cell_type": "markdown",
   "metadata": {},
   "source": [
    "## People from which Age group are having majority >50K?"
   ]
  },
  {
   "cell_type": "code",
   "execution_count": 4,
   "metadata": {},
   "outputs": [
    {
     "name": "stdout",
     "output_type": "stream",
     "text": [
      "     Income\n",
      "Age        \n",
      "30      171\n",
      "29      134\n",
      "28      119\n",
      "27       81\n",
      "26       63\n",
      "25       53\n",
      "24       31\n",
      "22       13\n",
      "23       12\n",
      "21        3\n",
      "19        2\n"
     ]
    },
    {
     "data": {
      "text/plain": [
       "<matplotlib.axes._subplots.AxesSubplot at 0x7fe9baad8470>"
      ]
     },
     "execution_count": 4,
     "metadata": {},
     "output_type": "execute_result"
    },
    {
     "data": {
      "image/png": "[encoded data removed]",
      "text/plain": [
       "<Figure size 432x288 with 1 Axes>"
      ]
     },
     "metadata": {
      "needs_background": "light"
     },
     "output_type": "display_data"
    }
   ],
   "source": [
    "ag_30 = train[(train.Income == ' >50K') & (train.Age <= 30)].pivot_table(values='Income',\n",
    "                                                                 index='Age', \n",
    "                                                                 aggfunc='count').sort_values(by='Income', ascending=False)\n",
    "print(ag_30)\n",
    "ag_30.plot(kind='bar')"
   ]
  },
  {
   "cell_type": "code",
   "execution_count": 5,
   "metadata": {},
   "outputs": [
    {
     "name": "stdout",
     "output_type": "stream",
     "text": [
      "     Income\n",
      "Age        \n",
      "46      292\n",
      "37      292\n",
      "45      288\n",
      "47      288\n",
      "38      282\n",
      "44      281\n",
      "41      279\n",
      "39      278\n",
      "43      273\n",
      "42      270\n",
      "40      268\n",
      "36      263\n",
      "50      261\n",
      "34      243\n",
      "51      242\n",
      "35      217\n",
      "48      217\n",
      "49      206\n",
      "52      192\n",
      "33      191\n",
      "32      189\n",
      "53      189\n",
      "31      183\n",
      "54      173\n",
      "30      171\n",
      "55      146\n",
      "59      133\n",
      "57      131\n",
      "58      122\n",
      "56      118\n",
      "60      101\n"
     ]
    },
    {
     "data": {
      "text/plain": [
       "<matplotlib.axes._subplots.AxesSubplot at 0x7fe9ba798320>"
      ]
     },
     "execution_count": 5,
     "metadata": {},
     "output_type": "execute_result"
    },
    {
     "data": {
      "image/png": "[encoded data removed]",
      "text/plain": [
       "<Figure size 432x288 with 1 Axes>"
      ]
     },
     "metadata": {
      "needs_background": "light"
     },
     "output_type": "display_data"
    }
   ],
   "source": [
    "ag_30_60 = train[(train.Income == ' >50K') & (train.Age >= 30) & (train.Age <= 60)].pivot_table(values='Income',\n",
    "                                                                                     index='Age',\n",
    "                                                                                     aggfunc='count').sort_values(by='Income', ascending=False)\n",
    "print(ag_30_60)\n",
    "ag_30_60.plot(kind='bar')"
   ]
  },
  {
   "cell_type": "code",
   "execution_count": 6,
   "metadata": {},
   "outputs": [
    {
     "name": "stdout",
     "output_type": "stream",
     "text": [
      "     Income\n",
      "Age        \n",
      "60      101\n",
      "61       96\n",
      "62       67\n",
      "63       59\n",
      "64       53\n",
      "65       43\n",
      "67       37\n",
      "66       35\n",
      "68       27\n",
      "69       21\n",
      "70       19\n",
      "71       16\n",
      "74       12\n",
      "73       10\n",
      "79        9\n",
      "72        9\n",
      "90        8\n",
      "75        7\n",
      "76        5\n",
      "77        5\n",
      "78        5\n",
      "81        3\n",
      "80        2\n",
      "83        2\n",
      "84        1\n"
     ]
    },
    {
     "data": {
      "text/plain": [
       "<matplotlib.axes._subplots.AxesSubplot at 0x7fe9ba68b668>"
      ]
     },
     "execution_count": 6,
     "metadata": {},
     "output_type": "execute_result"
    },
    {
     "data": {
      "image/png": "[encoded data removed]",
      "text/plain": [
       "<Figure size 432x288 with 1 Axes>"
      ]
     },
     "metadata": {
      "needs_background": "light"
     },
     "output_type": "display_data"
    }
   ],
   "source": [
    "ag_60_90 = train[(train.Income == ' >50K') & (train.Age >= 60) & (train.Age <= 90)].pivot_table(values='Income', \n",
    "                                                                                     index='Age', \n",
    "                                                                                     aggfunc='count').sort_values(by='Income', ascending=False)\n",
    "print(ag_60_90)\n",
    "ag_60_90.plot(kind='bar')"
   ]
  },
  {
   "cell_type": "markdown",
   "metadata": {},
   "source": [
    "### Report: Peple from age group `[30-60]` are more in #>50K Income"
   ]
  },
  {
   "cell_type": "markdown",
   "metadata": {},
   "source": [
    "## People in which Education Field are having more #>50K Income?"
   ]
  },
  {
   "cell_type": "code",
   "execution_count": 7,
   "metadata": {},
   "outputs": [
    {
     "name": "stdout",
     "output_type": "stream",
     "text": [
      "               Income\n",
      "Education            \n",
      " Bachelors       2221\n",
      " HS-grad         1675\n",
      " Some-college    1387\n",
      " Masters          959\n",
      " Prof-school      423\n",
      " Assoc-voc        361\n",
      " Doctorate        306\n",
      " Assoc-acdm       265\n",
      " 10th              62\n",
      " 11th              60\n",
      " 7th-8th           40\n",
      " 12th              33\n",
      " 9th               27\n",
      " 5th-6th           16\n",
      " 1st-4th            6\n"
     ]
    },
    {
     "data": {
      "text/plain": [
       "<matplotlib.axes._subplots.AxesSubplot at 0x7fe9ba5d0668>"
      ]
     },
     "execution_count": 7,
     "metadata": {},
     "output_type": "execute_result"
    },
    {
     "data": {
      "image/png": "[encoded data removed]",
      "text/plain": [
       "<Figure size 432x288 with 1 Axes>"
      ]
     },
     "metadata": {
      "needs_background": "light"
     },
     "output_type": "display_data"
    }
   ],
   "source": [
    "gt_50k_edu = train[(train.Income == ' >50K')].pivot_table(values='Income', index='Education',aggfunc='count').sort_values(by='Income', ascending=False)\n",
    "print(gt_50k_edu)\n",
    "gt_50k_edu.plot(kind='bar')"
   ]
  },
  {
   "cell_type": "code",
   "execution_count": 8,
   "metadata": {},
   "outputs": [
    {
     "name": "stdout",
     "output_type": "stream",
     "text": [
      "               Income\n",
      "Education            \n",
      " Bachelors       2221\n",
      " HS-grad         1675\n",
      " Some-college    1387\n",
      " Masters          959\n",
      " Prof-school      423\n",
      " Assoc-voc        361\n",
      " Doctorate        306\n",
      " Assoc-acdm       265\n",
      " 10th              62\n",
      " 11th              60\n",
      " 7th-8th           40\n",
      " 12th              33\n",
      " 9th               27\n",
      " 5th-6th           16\n",
      " 1st-4th            6\n"
     ]
    },
    {
     "data": {
      "text/plain": [
       "<matplotlib.axes._subplots.AxesSubplot at 0x7fe9ba4e29e8>"
      ]
     },
     "execution_count": 8,
     "metadata": {},
     "output_type": "execute_result"
    },
    {
     "data": {
      "image/png": "[encoded data removed]",
      "text/plain": [
       "<Figure size 432x288 with 1 Axes>"
      ]
     },
     "metadata": {
      "needs_background": "light"
     },
     "output_type": "display_data"
    }
   ],
   "source": [
    "lt_50k_edu = train[(train.Income == ' >50K')].pivot_table(values='Income', index='Education',aggfunc='count').sort_values(by='Income', ascending=False)\n",
    "print(lt_50k_edu)\n",
    "lt_50k_edu.plot(kind='bar')"
   ]
  },
  {
   "cell_type": "markdown",
   "metadata": {},
   "source": [
    "### Report: People from Bachlors are more in # >50K and <=50K Income"
   ]
  },
  {
   "cell_type": "markdown",
   "metadata": {},
   "source": [
    "## Men in which working class earns more #>50K and <=50K"
   ]
  },
  {
   "cell_type": "code",
   "execution_count": 9,
   "metadata": {},
   "outputs": [
    {
     "name": "stdout",
     "output_type": "stream",
     "text": [
      "                   Income\n",
      "Workclass                \n",
      " Private             4237\n",
      " Self-emp-not-inc     642\n",
      " Self-emp-inc         581\n",
      " Local-gov            463\n",
      " Federal-gov          315\n",
      " State-gov            285\n",
      " ?                    139\n"
     ]
    },
    {
     "data": {
      "text/plain": [
       "<matplotlib.axes._subplots.AxesSubplot at 0x7fe9ba5569e8>"
      ]
     },
     "execution_count": 9,
     "metadata": {},
     "output_type": "execute_result"
    },
    {
     "data": {
      "image/png": "[encoded data removed]",
      "text/plain": [
       "<Figure size 432x288 with 1 Axes>"
      ]
     },
     "metadata": {
      "needs_background": "light"
     },
     "output_type": "display_data"
    }
   ],
   "source": [
    "# Men with Income >50K [Workclass]\n",
    "wrk_men = train[(train.Income == ' >50K') & (train.Sex == ' Male')].pivot_table(values='Income', index='Workclass',aggfunc='count').sort_values(by='Income', ascending=False)\n",
    "print(wrk_men)\n",
    "wrk_men.plot(kind='bar')"
   ]
  },
  {
   "cell_type": "code",
   "execution_count": 10,
   "metadata": {},
   "outputs": [
    {
     "name": "stdout",
     "output_type": "stream",
     "text": [
      "                   Income\n",
      "Workclass                \n",
      " Private            10707\n",
      " Self-emp-not-inc    1500\n",
      " ?                    858\n",
      " Local-gov            795\n",
      " State-gov            524\n",
      " Self-emp-inc         400\n",
      " Federal-gov          330\n",
      " Without-pay            9\n",
      " Never-worked           5\n"
     ]
    },
    {
     "data": {
      "text/plain": [
       "<matplotlib.axes._subplots.AxesSubplot at 0x7fe9ba3f85c0>"
      ]
     },
     "execution_count": 10,
     "metadata": {},
     "output_type": "execute_result"
    },
    {
     "data": {
      "image/png": "[encoded data removed]",
      "text/plain": [
       "<Figure size 432x288 with 1 Axes>"
      ]
     },
     "metadata": {
      "needs_background": "light"
     },
     "output_type": "display_data"
    }
   ],
   "source": [
    "# Men with Income <=50K [Workclass]\n",
    "wrk_men_lt = train[(train.Income == ' <=50K') & (train.Sex == ' Male')].pivot_table(values='Income', index='Workclass',aggfunc='count').sort_values(by='Income', ascending=False)\n",
    "print(wrk_men_lt)\n",
    "wrk_men_lt.plot(kind='bar')"
   ]
  },
  {
   "cell_type": "markdown",
   "metadata": {},
   "source": [
    "### Report: Men in Private working class has more #>50K and <=50K"
   ]
  },
  {
   "cell_type": "markdown",
   "metadata": {},
   "source": [
    "## Women in which working class earns more #>50K and <=50K"
   ]
  },
  {
   "cell_type": "code",
   "execution_count": 13,
   "metadata": {},
   "outputs": [
    {
     "name": "stdout",
     "output_type": "stream",
     "text": [
      "                   Income\n",
      "Workclass                \n",
      " Private              726\n",
      " Local-gov            154\n",
      " Self-emp-not-inc      82\n",
      " State-gov             68\n",
      " Federal-gov           56\n",
      " ?                     52\n",
      " Self-emp-inc          41\n"
     ]
    },
    {
     "data": {
      "text/plain": [
       "<matplotlib.axes._subplots.AxesSubplot at 0x7fe9ba2dc668>"
      ]
     },
     "execution_count": 13,
     "metadata": {},
     "output_type": "execute_result"
    },
    {
     "data": {
      "image/png": "[encoded data removed]",
      "text/plain": [
       "<Figure size 432x288 with 1 Axes>"
      ]
     },
     "metadata": {
      "needs_background": "light"
     },
     "output_type": "display_data"
    }
   ],
   "source": [
    "# Women with Income >50K [Workclass]\n",
    "wrk_men = train[(train.Income == ' >50K') & (train.Sex == ' Female')].pivot_table(values='Income', index='Workclass',aggfunc='count').sort_values(by='Income', ascending=False)\n",
    "print(wrk_men)\n",
    "wrk_men.plot(kind='bar')"
   ]
  },
  {
   "cell_type": "code",
   "execution_count": 12,
   "metadata": {},
   "outputs": [
    {
     "name": "stdout",
     "output_type": "stream",
     "text": [
      "                   Income\n",
      "Workclass                \n",
      " Private             7026\n",
      " ?                    787\n",
      " Local-gov            681\n",
      " State-gov            421\n",
      " Self-emp-not-inc     317\n",
      " Federal-gov          259\n",
      " Self-emp-inc          94\n",
      " Without-pay            5\n",
      " Never-worked           2\n"
     ]
    },
    {
     "data": {
      "text/plain": [
       "<matplotlib.axes._subplots.AxesSubplot at 0x7fe9ba35c2b0>"
      ]
     },
     "execution_count": 12,
     "metadata": {},
     "output_type": "execute_result"
    },
    {
     "data": {
      "image/png": "[encoded data removed]",
      "text/plain": [
       "<Figure size 432x288 with 1 Axes>"
      ]
     },
     "metadata": {
      "needs_background": "light"
     },
     "output_type": "display_data"
    }
   ],
   "source": [
    "# Women with Income <=50K [Workclass]\n",
    "wrk_men_lt = train[(train.Income == ' <=50K') & (train.Sex == ' Female')].pivot_table(values='Income', index='Workclass',aggfunc='count').sort_values(by='Income', ascending=False)\n",
    "print(wrk_men_lt)\n",
    "wrk_men_lt.plot(kind='bar')"
   ]
  },
  {
   "cell_type": "markdown",
   "metadata": {},
   "source": [
    "### Report: Women in Private working class has more #>50K and <=50K"
   ]
  },
  {
   "cell_type": "markdown",
   "metadata": {},
   "source": [
    "## What is the Majority Race and Minority Race"
   ]
  },
  {
   "cell_type": "code",
   "execution_count": 21,
   "metadata": {},
   "outputs": [
    {
     "name": "stdout",
     "output_type": "stream",
     "text": [
      "                       Age  Capital_Gain  Capital_Loss  Education  \\\n",
      "Race                                                                \n",
      " White               27816         27816         27816      27816   \n",
      " Other                 271           271           271        271   \n",
      " Black                3124          3124          3124       3124   \n",
      " Asian-Pac-Islander   1039          1039          1039       1039   \n",
      " Amer-Indian-Eskimo    311           311           311        311   \n",
      "\n",
      "                     Education_num  Hours/Week  Income  Marital_Status  \\\n",
      "Race                                                                     \n",
      " White                       27816       27816   27816           27816   \n",
      " Other                         271         271     271             271   \n",
      " Black                        3124        3124    3124            3124   \n",
      " Asian-Pac-Islander           1039        1039    1039            1039   \n",
      " Amer-Indian-Eskimo            311         311     311             311   \n",
      "\n",
      "                     Native_country  Occupation  Relationship    Sex  \\\n",
      "Race                                                                   \n",
      " White                        27816       27816         27816  27816   \n",
      " Other                          271         271           271    271   \n",
      " Black                         3124        3124          3124   3124   \n",
      " Asian-Pac-Islander            1039        1039          1039   1039   \n",
      " Amer-Indian-Eskimo             311         311           311    311   \n",
      "\n",
      "                     Workclass  fnlgwt  \n",
      "Race                                    \n",
      " White                   27816   27816  \n",
      " Other                     271     271  \n",
      " Black                    3124    3124  \n",
      " Asian-Pac-Islander       1039    1039  \n",
      " Amer-Indian-Eskimo        311     311  \n"
     ]
    },
    {
     "data": {
      "text/plain": [
       "<matplotlib.axes._subplots.AxesSubplot at 0x7fe9b9690358>"
      ]
     },
     "execution_count": 21,
     "metadata": {},
     "output_type": "execute_result"
    },
    {
     "data": {
      "image/png": "[encoded data removed]",
      "text/plain": [
       "<Figure size 432x288 with 1 Axes>"
      ]
     },
     "metadata": {
      "needs_background": "light"
     },
     "output_type": "display_data"
    }
   ],
   "source": [
    "rc = train.pivot_table(index='Race', aggfunc='count').sort_values(by='Race', ascending=False)\n",
    "print(rc)\n",
    "rc.plot(kind='bar')"
   ]
  },
  {
   "cell_type": "markdown",
   "metadata": {},
   "source": [
    "### Report: Majority Race `White`, Minority Race `Amer-Indian-Eskimo`"
   ]
  },
  {
   "cell_type": "markdown",
   "metadata": {},
   "source": [
    "## Which Race is having more #>50K and more #<=50K?"
   ]
  },
  {
   "cell_type": "code",
   "execution_count": 22,
   "metadata": {},
   "outputs": [
    {
     "name": "stdout",
     "output_type": "stream",
     "text": [
      "                     Income\n",
      "Race                       \n",
      " White                 7117\n",
      " Black                  387\n",
      " Asian-Pac-Islander     276\n",
      " Amer-Indian-Eskimo      36\n",
      " Other                   25\n"
     ]
    },
    {
     "data": {
      "text/plain": [
       "<matplotlib.axes._subplots.AxesSubplot at 0x7fe9b932cc50>"
      ]
     },
     "execution_count": 22,
     "metadata": {},
     "output_type": "execute_result"
    },
    {
     "data": {
      "image/png": "[encoded data removed]",
      "text/plain": [
       "<Figure size 432x288 with 1 Axes>"
      ]
     },
     "metadata": {
      "needs_background": "light"
     },
     "output_type": "display_data"
    }
   ],
   "source": [
    "# Races with Income >50K \n",
    "rc_income = train[(train.Income == ' >50K')].pivot_table(values='Income', index='Race',aggfunc='count').sort_values(by='Income', ascending=False)\n",
    "print(rc_income)\n",
    "rc_income.plot(kind='bar')"
   ]
  },
  {
   "cell_type": "code",
   "execution_count": 23,
   "metadata": {},
   "outputs": [
    {
     "name": "stdout",
     "output_type": "stream",
     "text": [
      "                     Income\n",
      "Race                       \n",
      " White                20699\n",
      " Black                 2737\n",
      " Asian-Pac-Islander     763\n",
      " Amer-Indian-Eskimo     275\n",
      " Other                  246\n"
     ]
    },
    {
     "data": {
      "text/plain": [
       "<matplotlib.axes._subplots.AxesSubplot at 0x7fe9b9e6d198>"
      ]
     },
     "execution_count": 23,
     "metadata": {},
     "output_type": "execute_result"
    },
    {
     "data": {
      "image/png": "[encoded data removed]",
      "text/plain": [
       "<Figure size 432x288 with 1 Axes>"
      ]
     },
     "metadata": {
      "needs_background": "light"
     },
     "output_type": "display_data"
    }
   ],
   "source": [
    "# Races with Income <=50K \n",
    "rc_income = train[(train.Income == ' <=50K')].pivot_table(values='Income', index='Race',aggfunc='count').sort_values(by='Income', ascending=False)\n",
    "print(rc_income)\n",
    "rc_income.plot(kind='bar')"
   ]
  },
  {
   "cell_type": "markdown",
   "metadata": {},
   "source": [
    "### Report: White Race is having more #>50K and more #<=50K. But, compering black, there are more #Black race in <=50K than >50K"
   ]
  },
  {
   "cell_type": "markdown",
   "metadata": {},
   "source": [
    "## Which country Education has the more #>50K?"
   ]
  },
  {
   "cell_type": "code",
   "execution_count": 37,
   "metadata": {},
   "outputs": [
    {
     "name": "stdout",
     "output_type": "stream",
     "text": [
      "                              Income\n",
      "Native_country Education            \n",
      " United-States  Bachelors       2016\n",
      "                HS-grad         1583\n",
      "                Some-college    1298\n",
      "                Masters          866\n",
      "                Prof-school      374\n",
      "                Assoc-voc        336\n",
      "                Doctorate        249\n",
      "                Assoc-acdm       247\n",
      "                10th              59\n",
      "                11th              55\n",
      " ?              Bachelors         52\n",
      " Philippines    Bachelors         36\n",
      " United-States  7th-8th           31\n",
      "                12th              28\n",
      "                9th               23\n",
      " ?              Masters           23\n",
      "                Some-college      17\n",
      "                Doctorate         15\n",
      " India          Masters           13\n",
      " ?              HS-grad           13\n",
      " India          Prof-school       12\n",
      " England        Bachelors         12\n",
      " Germany        Bachelors         12\n",
      " Japan          Bachelors         10\n",
      " Germany        Some-college       9\n",
      " Canada         Bachelors          9\n",
      " Philippines    Some-college       9\n",
      " Canada         Some-college       9\n",
      " ?              Prof-school        9\n",
      " Italy          Bachelors          9\n",
      "...                              ...\n",
      " Jamaica        HS-grad            1\n",
      " Peru           Some-college       1\n",
      "                Bachelors          1\n",
      " Nicaragua      Assoc-voc          1\n",
      "                12th               1\n",
      " Mexico         Prof-school        1\n",
      "                Doctorate          1\n",
      "                Assoc-voc          1\n",
      " Laos           Prof-school        1\n",
      "                5th-6th            1\n",
      " Japan          Some-college       1\n",
      "                Doctorate          1\n",
      "                Assoc-acdm         1\n",
      "                10th               1\n",
      " Jamaica        Doctorate          1\n",
      " Hungary        Bachelors          1\n",
      " Jamaica        Bachelors          1\n",
      "                Assoc-voc          1\n",
      " Italy          Prof-school        1\n",
      "                Doctorate          1\n",
      "                Assoc-acdm         1\n",
      "                7th-8th            1\n",
      "                5th-6th            1\n",
      " ?              11th               1\n",
      " Ireland        Some-college       1\n",
      "                HS-grad            1\n",
      "                Assoc-acdm         1\n",
      " India          Assoc-voc          1\n",
      " Hungary        HS-grad            1\n",
      " Yugoslavia     Some-college       1\n",
      "\n",
      "[212 rows x 1 columns]\n"
     ]
    }
   ],
   "source": [
    "con_gt_50K = train[train.Income == ' >50K'].pivot_table(index=['Native_country', 'Education'], values='Income', aggfunc='count').sort_values(by='Income', ascending=False)\n",
    "print(con_gt_50K)"
   ]
  },
  {
   "cell_type": "markdown",
   "metadata": {},
   "source": [
    "### Report: Bachlors in United States has more #>50K"
   ]
  },
  {
   "cell_type": "markdown",
   "metadata": {},
   "source": [
    "## Which country Education has the more #<=50K?"
   ]
  },
  {
   "cell_type": "code",
   "execution_count": 38,
   "metadata": {},
   "outputs": [
    {
     "name": "stdout",
     "output_type": "stream",
     "text": [
      "                              Income\n",
      "Native_country Education            \n",
      " United-States  Bachelors       2016\n",
      "                HS-grad         1583\n",
      "                Some-college    1298\n",
      "                Masters          866\n",
      "                Prof-school      374\n",
      "                Assoc-voc        336\n",
      "                Doctorate        249\n",
      "                Assoc-acdm       247\n",
      "                10th              59\n",
      "                11th              55\n",
      " ?              Bachelors         52\n",
      " Philippines    Bachelors         36\n",
      " United-States  7th-8th           31\n",
      "                12th              28\n",
      "                9th               23\n",
      " ?              Masters           23\n",
      "                Some-college      17\n",
      "                Doctorate         15\n",
      " India          Masters           13\n",
      " ?              HS-grad           13\n",
      " India          Prof-school       12\n",
      " England        Bachelors         12\n",
      " Germany        Bachelors         12\n",
      " Japan          Bachelors         10\n",
      " Germany        Some-college       9\n",
      " Canada         Bachelors          9\n",
      " Philippines    Some-college       9\n",
      " Canada         Some-college       9\n",
      " ?              Prof-school        9\n",
      " Italy          Bachelors          9\n",
      "...                              ...\n",
      " Jamaica        HS-grad            1\n",
      " Peru           Some-college       1\n",
      "                Bachelors          1\n",
      " Nicaragua      Assoc-voc          1\n",
      "                12th               1\n",
      " Mexico         Prof-school        1\n",
      "                Doctorate          1\n",
      "                Assoc-voc          1\n",
      " Laos           Prof-school        1\n",
      "                5th-6th            1\n",
      " Japan          Some-college       1\n",
      "                Doctorate          1\n",
      "                Assoc-acdm         1\n",
      "                10th               1\n",
      " Jamaica        Doctorate          1\n",
      " Hungary        Bachelors          1\n",
      " Jamaica        Bachelors          1\n",
      "                Assoc-voc          1\n",
      " Italy          Prof-school        1\n",
      "                Doctorate          1\n",
      "                Assoc-acdm         1\n",
      "                7th-8th            1\n",
      "                5th-6th            1\n",
      " ?              11th               1\n",
      " Ireland        Some-college       1\n",
      "                HS-grad            1\n",
      "                Assoc-acdm         1\n",
      " India          Assoc-voc          1\n",
      " Hungary        HS-grad            1\n",
      " Yugoslavia     Some-college       1\n",
      "\n",
      "[212 rows x 1 columns]\n"
     ]
    }
   ],
   "source": [
    "con_lt_50K = train[train.Income == ' <=50K'].pivot_table(index=['Native_country', 'Education'], values='Income', aggfunc='count').sort_values(by='Income', ascending=False)\n",
    "print(con_gt_50K)"
   ]
  },
  {
   "cell_type": "markdown",
   "metadata": {},
   "source": [
    "### Report: Bachlors in United States has more #<=50K"
   ]
  },
  {
   "cell_type": "markdown",
   "metadata": {},
   "source": [
    "## Which Education has more # in Governement workclass?"
   ]
  },
  {
   "cell_type": "code",
   "execution_count": 57,
   "metadata": {},
   "outputs": [
    {
     "name": "stdout",
     "output_type": "stream",
     "text": [
      "               Workclass\n",
      "Education               \n",
      " HS-grad             771\n",
      " Bachelors           747\n",
      " Some-college        712\n",
      " Masters             511\n",
      " Assoc-voc           132\n",
      " Assoc-acdm          129\n",
      " Doctorate           116\n",
      " Prof-school          60\n",
      " 11th                 50\n",
      " 10th                 44\n",
      " 7th-8th              38\n",
      " 12th                 29\n",
      " 9th                  29\n",
      " 5th-6th              13\n",
      " 1st-4th               5\n",
      " Preschool             5\n"
     ]
    },
    {
     "data": {
      "text/plain": [
       "<matplotlib.axes._subplots.AxesSubplot at 0x7fe9b9eac588>"
      ]
     },
     "execution_count": 57,
     "metadata": {},
     "output_type": "execute_result"
    },
    {
     "data": {
      "image/png": "[encoded data removed]",
      "text/plain": [
       "<Figure size 432x288 with 1 Axes>"
      ]
     },
     "metadata": {
      "needs_background": "light"
     },
     "output_type": "display_data"
    }
   ],
   "source": [
    "\n",
    "edu_govt = train[(train.Workclass == ' State-gov')| \\\n",
    "                 (train.Workclass == ' Fedral-gov')| \\\n",
    "                 (train.Workclass == ' Local-gov')].pivot_table(index='Education',\n",
    "                                                    values='Workclass',\n",
    "                                                    aggfunc='count').sort_values(by='Workclass', \n",
    "                                                    ascending=False)\n",
    "print(edu_govt)\n",
    "edu_govt.plot(kind='bar')"
   ]
  },
  {
   "cell_type": "markdown",
   "metadata": {},
   "source": [
    "### Report: HS-Grad education has more # in Governament workclass"
   ]
  },
  {
   "cell_type": "code",
   "execution_count": 72,
   "metadata": {},
   "outputs": [
    {
     "name": "stdout",
     "output_type": "stream",
     "text": [
      "                              Income\n",
      "Workclass         Hours/Week        \n",
      " Private          40            2129\n",
      "                  50             833\n",
      "                  45             498\n",
      "                  60             362\n",
      " Local-gov        40             311\n",
      " Federal-gov      40             252\n",
      " Private          55             217\n",
      " Self-emp-not-inc 40             180\n",
      " State-gov        40             159\n",
      " Self-emp-inc     40             146\n",
      "                  50             143\n",
      " Self-emp-not-inc 50             135\n",
      " Private          48             111\n",
      " Self-emp-inc     60             109\n",
      " Self-emp-not-inc 60              93\n",
      " Private          35              88\n",
      " ?                40              70\n",
      " Local-gov        50              68\n",
      " Private          44              62\n",
      "                  65              61\n",
      " Self-emp-not-inc 45              59\n",
      " Private          42              50\n",
      " State-gov        50              47\n",
      " Local-gov        45              46\n",
      " Self-emp-inc     45              44\n",
      " Private          70              43\n",
      "                  38              40\n",
      " Self-emp-not-inc 55              39\n",
      " Private          30              39\n",
      " Local-gov        60              34\n",
      "...                              ...\n",
      " Self-emp-inc     56               1\n",
      "                  58               1\n",
      "                  62               1\n",
      "                  78               1\n",
      " Private          98               1\n",
      " Self-emp-inc     84               1\n",
      "                  98               1\n",
      " Self-emp-not-inc 2                1\n",
      "                  3                1\n",
      "                  4                1\n",
      "                  6                1\n",
      " Self-emp-inc     10               1\n",
      " Private          89               1\n",
      " Local-gov        99               1\n",
      " Private          17               1\n",
      "                  2                1\n",
      "                  4                1\n",
      "                  7                1\n",
      "                  8                1\n",
      "                  13               1\n",
      "                  14               1\n",
      "                  27               1\n",
      "                  73               1\n",
      "                  29               1\n",
      "                  33               1\n",
      "                  34               1\n",
      "                  63               1\n",
      "                  66               1\n",
      "                  67               1\n",
      " State-gov        80               1\n",
      "\n",
      "[290 rows x 1 columns]\n"
     ]
    }
   ],
   "source": [
    "nofH_inc_edu = train[train.Income == \" >50K\"].pivot_table(index=['Workclass', 'Hours/Week'],\n",
    "                                                        \n",
    "                                                        values='Income',\n",
    "                                                        aggfunc='count').sort_values(by='Income',ascending=False)\n",
    "print(nofH_inc_edu)"
   ]
  },
  {
   "cell_type": "code",
   "execution_count": null,
   "metadata": {},
   "outputs": [],
   "source": []
  },
  {
   "cell_type": "code",
   "execution_count": null,
   "metadata": {},
   "outputs": [],
   "source": []
  }
 ],
 "metadata": {
  "kernelspec": {
   "display_name": "Python 3",
   "language": "python",
   "name": "python3"
  },
  "language_info": {
   "codemirror_mode": {
    "name": "ipython",
    "version": 3
   },
   "file_extension": ".py",
   "mimetype": "text/x-python",
   "name": "python",
   "nbconvert_exporter": "python",
   "pygments_lexer": "ipython3",
   "version": "3.7.3"
  }
 },
 "nbformat": 4,
 "nbformat_minor": 2
}
