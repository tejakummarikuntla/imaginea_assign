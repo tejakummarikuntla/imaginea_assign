{
 "cells": [
  {
   "cell_type": "markdown",
   "metadata": {},
   "source": [
    "## Introduction to Bayes Theorem\n",
    "\n",
    "In the 1700s, Reverend Thomas Bayes came up with the original research that would become Bayes’ theorem. Pierre-Simon Laplace extended Bayes’ research to produce the beautiful result we know today. Bayes’ theorem is as follows:"
   ]
  },
  {
   "cell_type": "markdown",
   "metadata": {},
   "source": [
    "- Let's say we have two events A and B. The probability of occurence of A is $P(A)$ and that of B is $P(B)$.\n",
    "- Bayes Therom: $P(A|B) = \\frac{P(B|A)*P(A)}{P(B)}$\n",
    "- $P(B|A)$ is the conditional probability of occurrence of B given that the event has already occurred\n",
    "- $P(A)$ represents the **Prior** probability of event A.\n",
    "- $P(B)$ represents the prior probability of the total probability of event B [Normalisation Factor].\n",
    "- $P(A|B)$ is called the **Posterior Probability**\n",
    "- $P(B|A)$ is aslo called the **likelihood**\n",
    "\n",
    "Naive Bayes is a linear classifier. To understand it, we need to understand some basic and conditional probabilities."
   ]
  },
  {
   "cell_type": "markdown",
   "metadata": {},
   "source": [
    "![Bayes Theorem](./Images/Bayes_Theorem.png)"
   ]
  },
  {
   "cell_type": "markdown",
   "metadata": {},
   "source": [
    "The NBC is a probabilistic classifier based on applying Bayes’ theorem with strong (naive) independence assumptions. In a nutshell, an NBC assigns inputs into one of the k classes {C1, C2, ..., Ck} based on some properties (features) of the inputs. NBCs have applications such as email spam filtering and document classification."
   ]
  },
  {
   "cell_type": "markdown",
   "metadata": {},
   "source": [
    "![Bayes_Labled](Images/Bayes_labeled.png)\n",
    "\n",
    "- The prior probability that an email is spam\n",
    "- The likelihood of encountering these word in a spam email\n",
    "- The evidence; that is, the probability of seeing these words in an email"
   ]
  },
  {
   "cell_type": "code",
   "execution_count": null,
   "metadata": {},
   "outputs": [],
   "source": []
  }
 ],
 "metadata": {
  "kernelspec": {
   "display_name": "Python 3",
   "language": "python",
   "name": "python3"
  },
  "language_info": {
   "codemirror_mode": {
    "name": "ipython",
    "version": 3
   },
   "file_extension": ".py",
   "mimetype": "text/x-python",
   "name": "python",
   "nbconvert_exporter": "python",
   "pygments_lexer": "ipython3",
   "version": "3.7.1"
  }
 },
 "nbformat": 4,
 "nbformat_minor": 2
}
