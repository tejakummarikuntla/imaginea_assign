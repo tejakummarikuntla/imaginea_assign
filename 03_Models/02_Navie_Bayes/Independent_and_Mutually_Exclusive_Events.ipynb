{
 "cells": [
  {
   "cell_type": "markdown",
   "metadata": {},
   "source": [
    "## Independent Events"
   ]
  },
  {
   "cell_type": "markdown",
   "metadata": {},
   "source": [
    "Two events $A$ and $B$ are said to be independent.\n",
    "- $P(A|B)=P(A)$\n",
    "- $P(B|A)=P(B)$\n",
    "\n",
    "**Example:**\n",
    "Let's say Events A and B.\n",
    "    - A: Getting a value of 6 when we roll Die 1\n",
    "        - D1 = 6\n",
    "    - B: Getting a value of 3 when we roll Die 2\n",
    "        - D2 = 3\n",
    "We are rolling `Die1` and `Die2` parallelly, the fact `D1` getting 6 has no relation of `D2` getting 3\n",
    "$$P(D1=6|D2=3) = 6$$\n",
    "$$P(D2=3|D1=6) = 3$$\n",
    "These are totally independent events"
   ]
  },
  {
   "cell_type": "markdown",
   "metadata": {},
   "source": [
    "## Mutually Exclusive Events"
   ]
  },
  {
   "cell_type": "markdown",
   "metadata": {},
   "source": [
    "If $P(A|B) = P(B|A) = 0$ then $A$ and $B$ are said to be Mutually Exclusive Events\n",
    "- $P(A|B) = \\frac{P(A \\cap B)}{P(B)}$\n",
    "- $P(B|A) = \\frac{P(B \\cap A)}{P(A)}$\n",
    "\n",
    "$P(A|B) = P(B|A)$, only when $P(A \\cap B) = 0$"
   ]
  },
  {
   "cell_type": "markdown",
   "metadata": {},
   "source": [
    "**Example:** Let's say Event A and B are two events\n",
    "    - A: Getting a value of 6 when we roll Die 1\n",
    "    - B: Getting a value of 3 when we roll Die 1\n",
    "\n",
    "As we are only rolling a single die, the probability of getting 6, given it's 3 is 0 and vice versa.\n",
    "\n",
    "$$P(D1=6|D1=3) = 0$$\n",
    "$$P(D1=3|D1=6) = 0$$\n",
    "These are Mutually Exclusive Events"
   ]
  },
  {
   "cell_type": "code",
   "execution_count": null,
   "metadata": {},
   "outputs": [],
   "source": []
  }
 ],
 "metadata": {
  "kernelspec": {
   "display_name": "Python 3",
   "language": "python",
   "name": "python3"
  },
  "language_info": {
   "codemirror_mode": {
    "name": "ipython",
    "version": 3
   },
   "file_extension": ".py",
   "mimetype": "text/x-python",
   "name": "python",
   "nbconvert_exporter": "python",
   "pygments_lexer": "ipython3",
   "version": "3.7.1"
  }
 },
 "nbformat": 4,
 "nbformat_minor": 2
}
